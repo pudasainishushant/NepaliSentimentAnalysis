{
 "cells": [
  {
   "cell_type": "code",
   "execution_count": 45,
   "id": "f04b54a8",
   "metadata": {},
   "outputs": [],
   "source": [
    "import pandas as pd\n",
    "\n",
    "data = pd.read_csv(\"/home/ictc/Desktop/078msdsa016/covid_sentiment/CovidNepaliTweet_Research/sentiment_youtube_comment/collected_final_data.csv\")"
   ]
  },
  {
   "cell_type": "code",
   "execution_count": 46,
   "id": "e6fb284b",
   "metadata": {},
   "outputs": [],
   "source": [
    "import torch\n",
    "import numpy as np \n",
    "import pandas as pd \n",
    "from transformers import BertTokenizer, BertModel, BertForMaskedLM, AutoTokenizer, AutoModelForMaskedLM\n",
    "from scipy.spatial.distance import cosine \n",
    "import tokenizers \n",
    "import pandas as pd \n",
    "from sklearn.model_selection import train_test_split,GridSearchCV\n",
    "from sklearn.metrics import classification_report, confusion_matrix, f1_score, accuracy_score\n",
    "from nltk.corpus import stopwords\n",
    "from sklearn.svm import SVC\n",
    "from sklearn.naive_bayes import GaussianNB\n",
    "from sklearn.ensemble import RandomForestClassifier, GradientBoostingClassifier\n",
    "from sklearn.decomposition import PCA\n",
    "from sklearn.preprocessing import StandardScaler\n",
    "# import snowballstemmer\n",
    "import numpy\n",
    "import os \n",
    "import re\n",
    "import json\n",
    "import pickle \n",
    "\n",
    "model = AutoModelForMaskedLM.from_pretrained(\"Shushant/nepaliBERT\", output_hidden_states = True, return_dict = True, output_attentions = True)\n",
    "\n",
    "tokenizers = AutoTokenizer.from_pretrained(\"Shushant/nepaliBERT\")"
   ]
  },
  {
   "cell_type": "code",
   "execution_count": 47,
   "id": "a4a49bb6-97a5-4b5e-b805-8542ee2c76b7",
   "metadata": {},
   "outputs": [
    {
     "data": {
      "text/html": [
       "<div>\n",
       "<style scoped>\n",
       "    .dataframe tbody tr th:only-of-type {\n",
       "        vertical-align: middle;\n",
       "    }\n",
       "\n",
       "    .dataframe tbody tr th {\n",
       "        vertical-align: top;\n",
       "    }\n",
       "\n",
       "    .dataframe thead th {\n",
       "        text-align: right;\n",
       "    }\n",
       "</style>\n",
       "<table border=\"1\" class=\"dataframe\">\n",
       "  <thead>\n",
       "    <tr style=\"text-align: right;\">\n",
       "      <th></th>\n",
       "      <th>Unnamed: 0</th>\n",
       "      <th>text</th>\n",
       "      <th>label</th>\n",
       "    </tr>\n",
       "  </thead>\n",
       "  <tbody>\n",
       "    <tr>\n",
       "      <th>0</th>\n",
       "      <td>1</td>\n",
       "      <td>1000 अंकले घटेको नेप्से 200 अंकले बढ्नु ठूलो क...</td>\n",
       "      <td>1</td>\n",
       "    </tr>\n",
       "    <tr>\n",
       "      <th>1</th>\n",
       "      <td>4</td>\n",
       "      <td>राम्रो भयो️️</td>\n",
       "      <td>1</td>\n",
       "    </tr>\n",
       "    <tr>\n",
       "      <th>2</th>\n",
       "      <td>6</td>\n",
       "      <td>जानकारीको लागि धन्यवाद रामहरी ब्रदर</td>\n",
       "      <td>1</td>\n",
       "    </tr>\n",
       "    <tr>\n",
       "      <th>3</th>\n",
       "      <td>18</td>\n",
       "      <td>भारत-मधेस र नेपाल-चीन सम्बन्ध विग्रन्छ, मधेसी ...</td>\n",
       "      <td>0</td>\n",
       "    </tr>\n",
       "    <tr>\n",
       "      <th>4</th>\n",
       "      <td>25</td>\n",
       "      <td>लेखनाथ न्यौपानेको खुलासा,महाधिबेशनमा एमसीसीको ...</td>\n",
       "      <td>0</td>\n",
       "    </tr>\n",
       "  </tbody>\n",
       "</table>\n",
       "</div>"
      ],
      "text/plain": [
       "   Unnamed: 0                                               text  label\n",
       "0           1  1000 अंकले घटेको नेप्से 200 अंकले बढ्नु ठूलो क...      1\n",
       "1           4                                       राम्रो भयो️️      1\n",
       "2           6                जानकारीको लागि धन्यवाद रामहरी ब्रदर      1\n",
       "3          18  भारत-मधेस र नेपाल-चीन सम्बन्ध विग्रन्छ, मधेसी ...      0\n",
       "4          25  लेखनाथ न्यौपानेको खुलासा,महाधिबेशनमा एमसीसीको ...      0"
      ]
     },
     "execution_count": 47,
     "metadata": {},
     "output_type": "execute_result"
    }
   ],
   "source": [
    "data.head()"
   ]
  },
  {
   "cell_type": "code",
   "execution_count": 48,
   "id": "68208dea",
   "metadata": {},
   "outputs": [],
   "source": [
    "def get_bert_embedding_sentence(input_sentence):\n",
    "    md = model\n",
    "    tokenizer = tokenizers\n",
    "#     md = local_model\n",
    "#     tokenizer = local_tokenizers\n",
    "    marked_text = \" [CLS] \" + input_sentence + \" [SEP] \"\n",
    "    tokenized_text = tokenizer.tokenize(marked_text)\n",
    "\n",
    "    indexed_tokens = tokenizer.convert_tokens_to_ids(tokenized_text)\n",
    "    segments_ids = [1] * len(indexed_tokens) \n",
    "    \n",
    "    # Convert inputs to Pytorch tensors\n",
    "    tokens_tensors = torch.tensor([indexed_tokens])\n",
    "    segments_tensors = torch.tensor([segments_ids])\n",
    "    \n",
    "    with torch.no_grad():\n",
    "        outputs = md(tokens_tensors, segments_tensors)\n",
    "        # removing the first hidden state\n",
    "        # the first state is the input state \n",
    "\n",
    "        hidden_states = outputs.hidden_states\n",
    "#         print(hidden_states[-2])\n",
    "        # second_hidden_states = outputs[2]\n",
    "    # hidden_states has shape [13 x 1 x 22 x 768]\n",
    "\n",
    "    # token_vecs is a tensor with shape [22 x 768]\n",
    "#     token_vecs = hidden_states[-2][0]\n",
    "    # get last four layers\n",
    "#     last_four_layers = [hidden_states[i] for i in (-1,-2, -3,-4)]\n",
    "    # cast layers to a tuple and concatenate over the last dimension\n",
    "#     cat_hidden_states = torch.cat(tuple(last_four_layers), dim=-1)\n",
    "#     print(cat_hidden_states.shape)\n",
    "#     import pdb;pdb.set_trace()\n",
    "    token_vecs = hidden_states[-2][0]\n",
    "    # take the mean of the concatenated vector over the token dimension\n",
    "#     sentence_embedding = torch.mean(cat_hidden_states, dim=0).squeeze()\n",
    "\n",
    "    # Calculate the average of all 22 token vectors.\n",
    "    sentence_embedding = torch.mean(token_vecs, dim=0)\n",
    "#     sentence_embedding = torch.mean(token_vecs, dim=1)\n",
    "    return sentence_embedding.numpy()"
   ]
  },
  {
   "cell_type": "code",
   "execution_count": 49,
   "id": "6f56ba2e-1846-418b-95d0-16b58a6967ed",
   "metadata": {},
   "outputs": [
    {
     "name": "stdout",
     "output_type": "stream",
     "text": [
      "huggingface/tokenizers: The current process just got forked, after parallelism has already been used. Disabling parallelism to avoid deadlocks...\n",
      "To disable this warning, you can either:\n",
      "\t- Avoid using `tokenizers` before the fork if possible\n",
      "\t- Explicitly set the environment variable TOKENIZERS_PARALLELISM=(true | false)\n",
      "Requirement already satisfied: sentence_transformers in /home/ictc/anaconda3/envs/shushanta_nepali_gpt/lib/python3.9/site-packages (2.2.2)\n",
      "Requirement already satisfied: transformers<5.0.0,>=4.6.0 in /home/ictc/anaconda3/envs/shushanta_nepali_gpt/lib/python3.9/site-packages (from sentence_transformers) (4.32.0)\n",
      "Requirement already satisfied: tqdm in /home/ictc/anaconda3/envs/shushanta_nepali_gpt/lib/python3.9/site-packages (from sentence_transformers) (4.66.1)\n",
      "Requirement already satisfied: torch>=1.6.0 in /home/ictc/anaconda3/envs/shushanta_nepali_gpt/lib/python3.9/site-packages (from sentence_transformers) (2.0.1)\n",
      "Requirement already satisfied: torchvision in /home/ictc/anaconda3/envs/shushanta_nepali_gpt/lib/python3.9/site-packages (from sentence_transformers) (0.15.2)\n",
      "Requirement already satisfied: numpy in /home/ictc/anaconda3/envs/shushanta_nepali_gpt/lib/python3.9/site-packages (from sentence_transformers) (1.24.3)\n",
      "Requirement already satisfied: scikit-learn in /home/ictc/anaconda3/envs/shushanta_nepali_gpt/lib/python3.9/site-packages (from sentence_transformers) (1.3.0)\n",
      "Requirement already satisfied: scipy in /home/ictc/anaconda3/envs/shushanta_nepali_gpt/lib/python3.9/site-packages (from sentence_transformers) (1.11.2)\n",
      "Requirement already satisfied: nltk in /home/ictc/anaconda3/envs/shushanta_nepali_gpt/lib/python3.9/site-packages (from sentence_transformers) (3.8.1)\n",
      "Requirement already satisfied: sentencepiece in /home/ictc/anaconda3/envs/shushanta_nepali_gpt/lib/python3.9/site-packages (from sentence_transformers) (0.1.99)\n",
      "Requirement already satisfied: huggingface-hub>=0.4.0 in /home/ictc/anaconda3/envs/shushanta_nepali_gpt/lib/python3.9/site-packages (from sentence_transformers) (0.16.4)\n",
      "Requirement already satisfied: filelock in /home/ictc/anaconda3/envs/shushanta_nepali_gpt/lib/python3.9/site-packages (from huggingface-hub>=0.4.0->sentence_transformers) (3.12.2)\n",
      "Requirement already satisfied: fsspec in /home/ictc/anaconda3/envs/shushanta_nepali_gpt/lib/python3.9/site-packages (from huggingface-hub>=0.4.0->sentence_transformers) (2023.6.0)\n",
      "Requirement already satisfied: requests in /home/ictc/anaconda3/envs/shushanta_nepali_gpt/lib/python3.9/site-packages (from huggingface-hub>=0.4.0->sentence_transformers) (2.31.0)\n",
      "Requirement already satisfied: pyyaml>=5.1 in /home/ictc/anaconda3/envs/shushanta_nepali_gpt/lib/python3.9/site-packages (from huggingface-hub>=0.4.0->sentence_transformers) (6.0.1)\n",
      "Requirement already satisfied: typing-extensions>=3.7.4.3 in /home/ictc/anaconda3/envs/shushanta_nepali_gpt/lib/python3.9/site-packages (from huggingface-hub>=0.4.0->sentence_transformers) (4.5.0)\n",
      "Requirement already satisfied: packaging>=20.9 in /home/ictc/anaconda3/envs/shushanta_nepali_gpt/lib/python3.9/site-packages (from huggingface-hub>=0.4.0->sentence_transformers) (23.1)\n",
      "Requirement already satisfied: sympy in /home/ictc/anaconda3/envs/shushanta_nepali_gpt/lib/python3.9/site-packages (from torch>=1.6.0->sentence_transformers) (1.12)\n",
      "Requirement already satisfied: networkx in /home/ictc/anaconda3/envs/shushanta_nepali_gpt/lib/python3.9/site-packages (from torch>=1.6.0->sentence_transformers) (3.1)\n",
      "Requirement already satisfied: jinja2 in /home/ictc/anaconda3/envs/shushanta_nepali_gpt/lib/python3.9/site-packages (from torch>=1.6.0->sentence_transformers) (3.1.2)\n",
      "Requirement already satisfied: nvidia-cuda-nvrtc-cu11==11.7.99 in /home/ictc/anaconda3/envs/shushanta_nepali_gpt/lib/python3.9/site-packages (from torch>=1.6.0->sentence_transformers) (11.7.99)\n",
      "Requirement already satisfied: nvidia-cuda-runtime-cu11==11.7.99 in /home/ictc/anaconda3/envs/shushanta_nepali_gpt/lib/python3.9/site-packages (from torch>=1.6.0->sentence_transformers) (11.7.99)\n",
      "Requirement already satisfied: nvidia-cuda-cupti-cu11==11.7.101 in /home/ictc/anaconda3/envs/shushanta_nepali_gpt/lib/python3.9/site-packages (from torch>=1.6.0->sentence_transformers) (11.7.101)\n",
      "Requirement already satisfied: nvidia-cudnn-cu11==8.5.0.96 in /home/ictc/anaconda3/envs/shushanta_nepali_gpt/lib/python3.9/site-packages (from torch>=1.6.0->sentence_transformers) (8.5.0.96)\n",
      "Requirement already satisfied: nvidia-cublas-cu11==11.10.3.66 in /home/ictc/anaconda3/envs/shushanta_nepali_gpt/lib/python3.9/site-packages (from torch>=1.6.0->sentence_transformers) (11.10.3.66)\n",
      "Requirement already satisfied: nvidia-cufft-cu11==10.9.0.58 in /home/ictc/anaconda3/envs/shushanta_nepali_gpt/lib/python3.9/site-packages (from torch>=1.6.0->sentence_transformers) (10.9.0.58)\n",
      "Requirement already satisfied: nvidia-curand-cu11==10.2.10.91 in /home/ictc/anaconda3/envs/shushanta_nepali_gpt/lib/python3.9/site-packages (from torch>=1.6.0->sentence_transformers) (10.2.10.91)\n",
      "Requirement already satisfied: nvidia-cusolver-cu11==11.4.0.1 in /home/ictc/anaconda3/envs/shushanta_nepali_gpt/lib/python3.9/site-packages (from torch>=1.6.0->sentence_transformers) (11.4.0.1)\n",
      "Requirement already satisfied: nvidia-cusparse-cu11==11.7.4.91 in /home/ictc/anaconda3/envs/shushanta_nepali_gpt/lib/python3.9/site-packages (from torch>=1.6.0->sentence_transformers) (11.7.4.91)\n",
      "Requirement already satisfied: nvidia-nccl-cu11==2.14.3 in /home/ictc/anaconda3/envs/shushanta_nepali_gpt/lib/python3.9/site-packages (from torch>=1.6.0->sentence_transformers) (2.14.3)\n",
      "Requirement already satisfied: nvidia-nvtx-cu11==11.7.91 in /home/ictc/anaconda3/envs/shushanta_nepali_gpt/lib/python3.9/site-packages (from torch>=1.6.0->sentence_transformers) (11.7.91)\n",
      "Requirement already satisfied: triton==2.0.0 in /home/ictc/anaconda3/envs/shushanta_nepali_gpt/lib/python3.9/site-packages (from torch>=1.6.0->sentence_transformers) (2.0.0)\n",
      "Requirement already satisfied: setuptools in /home/ictc/anaconda3/envs/shushanta_nepali_gpt/lib/python3.9/site-packages (from nvidia-cublas-cu11==11.10.3.66->torch>=1.6.0->sentence_transformers) (68.0.0)\n",
      "Requirement already satisfied: wheel in /home/ictc/anaconda3/envs/shushanta_nepali_gpt/lib/python3.9/site-packages (from nvidia-cublas-cu11==11.10.3.66->torch>=1.6.0->sentence_transformers) (0.38.4)\n",
      "Requirement already satisfied: cmake in /home/ictc/anaconda3/envs/shushanta_nepali_gpt/lib/python3.9/site-packages (from triton==2.0.0->torch>=1.6.0->sentence_transformers) (3.27.2)\n",
      "Requirement already satisfied: lit in /home/ictc/anaconda3/envs/shushanta_nepali_gpt/lib/python3.9/site-packages (from triton==2.0.0->torch>=1.6.0->sentence_transformers) (16.0.6)\n",
      "Requirement already satisfied: regex!=2019.12.17 in /home/ictc/anaconda3/envs/shushanta_nepali_gpt/lib/python3.9/site-packages (from transformers<5.0.0,>=4.6.0->sentence_transformers) (2023.8.8)\n",
      "Requirement already satisfied: tokenizers!=0.11.3,<0.14,>=0.11.1 in /home/ictc/anaconda3/envs/shushanta_nepali_gpt/lib/python3.9/site-packages (from transformers<5.0.0,>=4.6.0->sentence_transformers) (0.13.3)\n",
      "Requirement already satisfied: safetensors>=0.3.1 in /home/ictc/anaconda3/envs/shushanta_nepali_gpt/lib/python3.9/site-packages (from transformers<5.0.0,>=4.6.0->sentence_transformers) (0.3.3)\n",
      "Requirement already satisfied: click in /home/ictc/anaconda3/envs/shushanta_nepali_gpt/lib/python3.9/site-packages (from nltk->sentence_transformers) (8.1.7)\n",
      "Requirement already satisfied: joblib in /home/ictc/anaconda3/envs/shushanta_nepali_gpt/lib/python3.9/site-packages (from nltk->sentence_transformers) (1.3.2)\n",
      "Requirement already satisfied: threadpoolctl>=2.0.0 in /home/ictc/anaconda3/envs/shushanta_nepali_gpt/lib/python3.9/site-packages (from scikit-learn->sentence_transformers) (3.2.0)\n",
      "Requirement already satisfied: pillow!=8.3.*,>=5.3.0 in /home/ictc/anaconda3/envs/shushanta_nepali_gpt/lib/python3.9/site-packages (from torchvision->sentence_transformers) (10.0.0)\n",
      "Requirement already satisfied: MarkupSafe>=2.0 in /home/ictc/anaconda3/envs/shushanta_nepali_gpt/lib/python3.9/site-packages (from jinja2->torch>=1.6.0->sentence_transformers) (2.1.3)\n",
      "Requirement already satisfied: charset-normalizer<4,>=2 in /home/ictc/anaconda3/envs/shushanta_nepali_gpt/lib/python3.9/site-packages (from requests->huggingface-hub>=0.4.0->sentence_transformers) (3.2.0)\n",
      "Requirement already satisfied: idna<4,>=2.5 in /home/ictc/anaconda3/envs/shushanta_nepali_gpt/lib/python3.9/site-packages (from requests->huggingface-hub>=0.4.0->sentence_transformers) (3.4)\n",
      "Requirement already satisfied: urllib3<3,>=1.21.1 in /home/ictc/anaconda3/envs/shushanta_nepali_gpt/lib/python3.9/site-packages (from requests->huggingface-hub>=0.4.0->sentence_transformers) (1.26.16)\n",
      "Requirement already satisfied: certifi>=2017.4.17 in /home/ictc/anaconda3/envs/shushanta_nepali_gpt/lib/python3.9/site-packages (from requests->huggingface-hub>=0.4.0->sentence_transformers) (2023.7.22)\n",
      "Requirement already satisfied: mpmath>=0.19 in /home/ictc/anaconda3/envs/shushanta_nepali_gpt/lib/python3.9/site-packages (from sympy->torch>=1.6.0->sentence_transformers) (1.3.0)\n"
     ]
    }
   ],
   "source": [
    "!pip install sentence_transformers"
   ]
  },
  {
   "cell_type": "code",
   "execution_count": 50,
   "id": "ff014218-5ff5-4aba-a5fa-0fdcc07419d8",
   "metadata": {},
   "outputs": [
    {
     "name": "stderr",
     "output_type": "stream",
     "text": [
      "No sentence-transformers model found with name /home/ictc/.cache/torch/sentence_transformers/Shushant_nepaliBERT. Creating a new one with MEAN pooling.\n",
      "Some weights of BertModel were not initialized from the model checkpoint at /home/ictc/.cache/torch/sentence_transformers/Shushant_nepaliBERT and are newly initialized: ['bert.pooler.dense.weight', 'bert.pooler.dense.bias']\n",
      "You should probably TRAIN this model on a down-stream task to be able to use it for predictions and inference.\n"
     ]
    }
   ],
   "source": [
    "from sentence_transformers import SentenceTransformer, util\n",
    "model = SentenceTransformer('Shushant/nepaliBERT')\n",
    "\n",
    "def get_bert_embedding_sentence(sentence):\n",
    "\n",
    "    query_embedding = model.encode(sentence)\n",
    "\n",
    "    return query_embedding\n"
   ]
  },
  {
   "cell_type": "code",
   "execution_count": 51,
   "id": "d9219c71-33f9-4ea0-8138-ffecc912373e",
   "metadata": {},
   "outputs": [
    {
     "data": {
      "text/plain": [
       "array([-3.78136724e-01,  1.46421313e+00, -2.50940114e-01,  1.21089391e-01,\n",
       "       -2.10015461e-01,  5.79064310e-01,  5.73764555e-02,  5.48238456e-01,\n",
       "        8.93054679e-02,  1.26704082e-01,  5.64851046e-01,  5.09898424e-01,\n",
       "       -1.54464722e-01,  1.09883189e+00, -2.29819983e-01,  9.90709305e-01,\n",
       "       -1.57544613e-02,  2.34265506e-01,  2.91988552e-01,  6.28394127e-01,\n",
       "       -1.01123124e-01, -2.04285771e-01,  7.81684101e-01, -3.33273619e-01,\n",
       "       -6.46297157e-01, -5.77421129e-01,  4.73568857e-01,  2.96949670e-02,\n",
       "       -1.38475299e-01,  2.41683632e-01,  2.15921775e-01,  9.17362198e-02,\n",
       "        8.51969421e-02, -7.08448350e-01, -1.40382946e-01,  6.65720701e-02,\n",
       "       -1.43700838e-02,  4.41497773e-01,  6.38163090e-02,  2.82624453e-01,\n",
       "        3.26309383e-01,  8.53633881e-03,  4.68904078e-01, -3.83573711e-01,\n",
       "        8.98801908e-03,  2.06401169e-01, -7.47826099e-01,  3.78553629e-01,\n",
       "       -5.54051936e-01,  4.71117571e-02, -2.78353512e-01, -1.14877737e+00,\n",
       "       -2.37238854e-01, -7.97081590e-02, -4.36961651e-02,  4.81451541e-01,\n",
       "       -5.41779697e-02, -4.47880149e-01,  7.69797683e-01, -8.52463208e-03,\n",
       "       -3.04259717e-01, -3.40475321e-01,  2.43352026e-01, -1.20977119e-01,\n",
       "       -5.84827326e-02,  1.75514907e-01, -1.02263346e-01,  9.63037014e-02,\n",
       "        4.09597278e-01, -1.74268812e-01,  4.06624228e-01, -1.89893633e-01,\n",
       "        3.08844686e-01,  3.00553560e-01,  2.92652696e-02, -1.52195230e-01,\n",
       "        3.42175722e-01, -7.01981485e-02, -4.58399624e-01, -1.20620981e-01,\n",
       "        5.28755113e-02, -3.33390832e-01,  2.90565997e-01, -2.41756469e-01,\n",
       "       -6.43903434e-01, -7.11311251e-02, -3.07295293e-01, -7.88897574e-02,\n",
       "       -2.11896613e-01, -6.77480400e-01, -3.97917897e-01,  6.17541730e-01,\n",
       "        6.88278079e-02,  7.47926474e-01, -9.72453132e-02, -3.55407149e-01,\n",
       "       -4.08751190e-01, -7.57132649e-01, -4.00015444e-01, -5.48896432e-01,\n",
       "       -9.35184062e-01,  5.47124028e-01, -3.67486596e-01, -2.39730060e-01,\n",
       "       -1.65510282e-01, -3.62127155e-01,  4.59306091e-01, -4.47589085e-02,\n",
       "        7.44755626e-01,  3.98216546e-01, -8.26031119e-02,  3.73427004e-01,\n",
       "       -1.70609634e-02,  1.64110437e-01, -7.16107525e-03,  6.31450236e-01,\n",
       "        6.74372137e-01,  3.62709969e-01,  1.00922763e-01,  2.80826867e-01,\n",
       "        1.67255159e-02,  4.44768786e-01,  2.94160932e-01, -2.08105892e-01,\n",
       "        7.54454434e-01,  8.42105001e-02, -5.05892694e-01, -4.93951030e-02,\n",
       "       -1.62244737e-01, -1.58030808e-01, -3.24585527e-01, -2.63324171e-01,\n",
       "       -5.48431754e-01,  6.93589389e-01, -4.55689698e-01, -7.85598457e-02,\n",
       "        7.89305389e-01, -1.71120867e-01, -5.15430331e-01, -3.05999279e-01,\n",
       "        1.01124920e-01, -1.36961505e-01,  1.65834033e+00,  5.29090643e-01,\n",
       "        2.83904076e-01, -3.63308489e-01, -3.36718619e-01, -7.63964534e-01,\n",
       "        9.65564996e-02,  7.96808824e-02, -4.26875800e-03, -3.87371838e-01,\n",
       "       -8.94188166e-01, -4.92278636e-01,  4.94029909e-01,  6.45056546e-01,\n",
       "        2.53110319e-01,  2.07580030e-01,  4.86346707e-02, -1.83565974e-01,\n",
       "        2.28217706e-01,  3.02430540e-01, -9.58842278e-01, -2.95055717e-01,\n",
       "       -4.35370088e-01, -7.52058148e-01, -9.52855051e-02, -2.95785964e-01,\n",
       "        5.63249215e-02,  5.25000334e-01,  7.41232708e-02,  6.22250319e-01,\n",
       "       -5.45490623e-01, -3.30800951e-01,  1.26896277e-01,  8.35264802e-01,\n",
       "        1.84986860e-01, -7.26432860e-01,  8.85843217e-01, -7.79181182e-01,\n",
       "        1.15727015e-01, -5.99238396e-01,  2.54528970e-01, -4.73212183e-01,\n",
       "       -3.79756123e-01, -3.00224245e-01, -1.92878004e-02, -5.19089222e-01,\n",
       "        1.15972511e-01,  1.58234723e-02, -3.41449901e-02, -6.55776024e-01,\n",
       "        2.99413145e-01,  1.60339907e-01, -3.75404954e-03, -4.73539159e-03,\n",
       "       -2.04472050e-01,  4.87456545e-02,  8.34639594e-02, -1.42690107e-01,\n",
       "        1.20816872e-01, -1.64347008e-01,  1.39361084e-01, -1.65720344e-01,\n",
       "       -5.87111831e-01,  2.07110390e-01,  2.29121685e-01, -9.72400665e-01,\n",
       "       -3.76114309e-01,  1.36775121e-01, -3.41663957e-01, -8.35952684e-02,\n",
       "        7.44148910e-01,  7.40115762e-01,  6.43143833e-01, -3.15897167e-01,\n",
       "        1.00366414e-01, -3.79404396e-01, -7.26796448e-01, -7.83913255e-01,\n",
       "       -3.46034952e-02, -5.41028619e-01, -4.01886970e-01, -5.14327705e-01,\n",
       "       -9.42079365e-01,  9.30484831e-02, -4.18654352e-01,  1.09409559e+00,\n",
       "        3.86812657e-01,  5.61231077e-01,  2.87156850e-01, -5.49674392e-01,\n",
       "       -1.63746133e-01,  3.32638800e-01,  5.74958444e-01, -3.04026827e-02,\n",
       "       -2.55745918e-01,  9.43768024e-01, -1.15265384e-01, -1.09355316e-01,\n",
       "        2.60480195e-01,  3.62432688e-01,  4.53179866e-01, -8.44185576e-02,\n",
       "        4.80018914e-01, -6.47890508e-01, -2.88281083e-01, -4.26732451e-01,\n",
       "       -3.36157858e-01, -2.60739625e-01, -5.82073450e-01, -2.82896876e-01,\n",
       "       -9.41518784e-01,  5.46720445e-01, -2.15219483e-01, -7.96677887e-01,\n",
       "       -3.49398881e-01,  6.30947649e-01,  4.60463524e-01, -5.31911105e-03,\n",
       "       -2.50734180e-01,  6.92076385e-01, -7.93254435e-01, -4.03160274e-01,\n",
       "       -2.69464664e-02,  8.90246689e-01, -4.07775253e-01, -7.54673779e-01,\n",
       "        3.73096280e-02, -1.80503458e-01,  5.53837240e-01, -7.41388798e-01,\n",
       "       -5.57704628e-01,  2.79683620e-01,  5.43145061e-01,  3.93597096e-01,\n",
       "        3.59178990e-01, -1.20872930e-01,  4.19720799e-01, -8.49565715e-02,\n",
       "       -4.14425880e-02,  2.60375530e-01, -1.83814988e-02,  4.59090799e-01,\n",
       "       -3.83578092e-01, -1.89477637e-01, -2.12980106e-01, -7.74324298e-01,\n",
       "        1.85644299e-01,  2.27598131e-01,  1.84108466e-01,  3.13175768e-01,\n",
       "       -2.43415684e-01, -1.94302090e-02,  4.06709313e-01,  3.65482718e-02,\n",
       "       -1.71368659e-01,  1.48808867e-01,  1.07848331e-01,  3.61794770e-01,\n",
       "       -5.21256149e-01,  4.69662309e-01,  2.47582123e-02, -3.79740931e-02,\n",
       "        3.55451405e-01, -1.63482055e-01, -1.09210141e-01, -3.86315465e-01,\n",
       "        6.31619215e-01,  5.61697245e-01, -8.86108458e-01, -5.90827227e-01,\n",
       "       -1.13217793e-01, -1.11708149e-01,  2.95876414e-01,  4.27208185e-01,\n",
       "        1.06370658e-01,  1.45338440e+00,  3.75654519e-01, -2.58504391e-01,\n",
       "       -2.33201116e-01, -5.33272088e-01,  4.95167971e-02,  4.96342152e-01,\n",
       "       -1.39696255e-01,  1.15752995e-01,  6.48427486e-01, -7.41347432e-01,\n",
       "        5.64527035e-01, -2.89439768e-01,  6.49607480e-02,  4.18176353e-01,\n",
       "        1.87282823e-02, -1.69098340e-02,  1.11671574e-02, -3.54645997e-01,\n",
       "        1.67736765e-02,  1.10395885e+00,  2.91740030e-01, -2.52955973e-01,\n",
       "       -3.56432945e-02,  2.90388584e-01, -2.64683425e-01,  2.22505957e-01,\n",
       "       -3.02245677e-01,  5.21526575e-01, -1.45813614e-01, -2.57837415e-01,\n",
       "        2.69632310e-01, -7.97366351e-03,  2.99540102e-01, -9.38965902e-02,\n",
       "       -2.01716989e-01, -6.11057281e-01, -1.48101896e-01,  2.15404138e-01,\n",
       "       -5.25608480e-01,  2.08089679e-01, -6.30757868e-01, -1.34882390e-01,\n",
       "       -1.40685588e-02,  1.80723354e-01,  1.46354958e-02, -6.15246519e-02,\n",
       "       -2.03516722e-01,  2.87487835e-01, -3.27293068e-01, -6.58404887e-01,\n",
       "        1.02365106e-01, -2.34204486e-01, -2.64842540e-01,  5.56184471e-01,\n",
       "        3.43186289e-01, -2.78664887e-01, -2.94932783e-01,  3.12763035e-01,\n",
       "       -1.01857591e+00, -8.58716905e-01, -8.18224907e-01,  4.44080420e-02,\n",
       "        2.09643662e-01,  1.15320966e-01,  6.42927922e-03,  2.54854870e+00,\n",
       "       -2.74214387e-01,  1.57671526e-01,  7.36231655e-02, -3.19280058e-01,\n",
       "       -1.11528918e-01,  9.88798495e-03, -1.34664088e-01,  1.52829215e-01,\n",
       "       -3.31002399e-02,  7.45589495e-01,  4.85329717e-01,  6.06354594e-01,\n",
       "       -1.35945141e-01, -1.46653369e-01, -1.83199853e-01, -1.71435192e-01,\n",
       "        4.28465903e-02,  2.48663291e-01,  1.81459486e-01, -9.58947167e-02,\n",
       "        2.47781321e-01, -6.13197207e-01,  1.78059965e-01,  2.85668314e-01,\n",
       "       -1.08319141e-01,  9.35525820e-02,  5.80826700e-01, -1.09261239e+00,\n",
       "        3.39677185e-02, -4.74907458e-01,  2.54384488e-01,  2.98380524e-01,\n",
       "       -7.88799152e-02,  8.05542350e-01, -9.93162155e-01, -5.41987240e-01,\n",
       "        2.38262817e-01, -2.44807601e-01, -1.49401605e-01,  4.31569368e-01,\n",
       "       -2.29920074e-03, -2.54450470e-01,  8.72135103e-01, -2.21242324e-01,\n",
       "       -8.66667986e-01,  4.84910935e-01,  4.11158919e-01, -1.18896931e-01,\n",
       "       -4.55100060e-01,  1.40524805e-01,  2.00531930e-01,  6.79575324e-01,\n",
       "        1.89969808e-01, -2.95007288e-01, -2.37095490e-01,  4.40863460e-01,\n",
       "       -3.32882226e-01,  1.04562354e+00,  3.53344947e-01,  4.82307747e-04,\n",
       "       -7.33193815e-01, -1.08274549e-01, -8.99441123e-01,  4.19645041e-01,\n",
       "       -5.37657261e-01, -1.31703690e-01,  3.20009142e-01, -7.87508726e-01,\n",
       "        2.43081912e-01, -3.85714173e-01, -2.66968608e-01,  9.85901415e-01,\n",
       "        1.06145531e-01, -1.01456642e-01, -2.48724088e-01, -1.27743259e-02,\n",
       "       -5.08107066e-01,  2.50376731e-01, -5.12416720e-01, -3.02426487e-01,\n",
       "        3.76190990e-01, -7.40643322e-01,  8.09552133e-01,  5.72394907e-01,\n",
       "       -1.50003046e-01, -4.30216700e-01, -1.96863115e-01, -1.03650607e-01,\n",
       "       -2.86102057e-01, -2.71265239e-01, -1.87452719e-01,  2.19350085e-01,\n",
       "        2.05174789e-01, -5.36779642e-01,  3.93076479e-01,  2.82705963e-01,\n",
       "       -7.54041374e-01,  4.50531065e-01, -1.74532667e-01,  2.01950237e-01,\n",
       "        5.57508290e-01,  5.87212384e-01, -7.89111555e-01, -8.29404771e-01,\n",
       "        1.50384903e-01,  4.50257808e-01, -9.04416889e-02, -2.98553795e-01,\n",
       "        7.03394115e-02,  1.01637274e-01, -3.13362688e-01,  8.67441446e-02,\n",
       "       -4.20355439e-01,  6.45688549e-02, -1.74836621e-01,  1.75864279e-01,\n",
       "        4.18117970e-01,  9.07421112e-04,  9.51122999e-01, -1.16719425e-01,\n",
       "       -1.17647097e-01, -1.25586048e-01, -5.52824557e-01,  8.34671855e-02,\n",
       "        4.34363097e-01,  4.34878767e-01, -1.00407138e-01, -2.91295677e-01,\n",
       "       -3.87837738e-03,  3.37629050e-01,  1.72328874e-01,  2.96130963e-03,\n",
       "       -3.36412579e-01,  4.80178028e-01, -3.94724250e-01,  2.69601405e-01,\n",
       "        4.67501938e-01,  1.24536887e-01, -2.25523859e-01,  6.70598209e-01,\n",
       "       -2.81132869e-02, -3.77789959e-02, -4.91994113e-01,  2.60676686e-02,\n",
       "        1.14997536e-01, -1.96584731e-01, -1.30383417e-01, -3.02773118e-01,\n",
       "        1.70372218e-01,  3.74793410e-02, -1.08564985e+00,  1.10714734e+00,\n",
       "       -4.42241430e-01, -5.53465188e-01, -2.82709867e-01, -9.45332199e-02,\n",
       "        1.09711535e-01, -2.23743036e-01,  5.27789295e-01,  4.39876705e-01,\n",
       "       -1.80626050e-01, -7.16131806e-01, -2.94454366e-01,  2.67823040e-02,\n",
       "        4.84010667e-01,  6.53725937e-02,  1.42497766e+00, -1.87980179e-02,\n",
       "       -2.20534146e-01, -1.05059385e+00,  5.44224858e-01,  4.85879332e-02,\n",
       "        2.58914173e-01, -1.01526007e-02,  3.86775553e-01, -7.73205578e-01,\n",
       "        6.13128468e-02,  4.23896283e-01, -2.88282573e-01, -2.21482784e-01,\n",
       "       -4.30771559e-01, -3.68425667e-01, -4.47951853e-02,  2.85440624e-01,\n",
       "        8.21239501e-02, -1.94175303e-01, -1.23108149e-01,  9.35795084e-02,\n",
       "        2.34727502e-01,  3.03449273e-01, -4.84256685e-01, -2.22178251e-01,\n",
       "        3.87516290e-01, -4.92550462e-01,  2.02538982e-01,  9.21799615e-02,\n",
       "       -2.63409436e-01, -3.03984940e-01,  3.13974887e-01, -2.17245504e-01,\n",
       "        5.14202416e-01,  1.19173512e-01,  1.41302496e-01,  6.34084463e-01,\n",
       "       -5.46624303e-01,  2.75192589e-01,  5.26764691e-01,  9.09194648e-01,\n",
       "        1.88931450e-01,  3.57520640e-01, -4.32565749e-01,  2.10654318e-01,\n",
       "        4.27887887e-01, -2.36462444e-01, -5.38076937e-01,  4.32506114e-01,\n",
       "        2.61377871e-01,  1.75473958e-01,  5.33869147e-01,  1.67938396e-01,\n",
       "       -4.76178706e-01, -4.02802110e-01,  4.62399006e-01, -1.96835592e-01,\n",
       "        7.85252750e-01, -1.38971567e-01, -1.08284011e-01, -1.63059950e-01,\n",
       "        3.59039187e-01,  6.73428178e-03, -2.94436991e-01, -4.94774953e-02,\n",
       "        3.75303328e-01, -3.73001173e-02,  5.01128554e-01,  2.06152499e-01,\n",
       "       -4.21587169e-01, -8.80791247e-02, -3.56125444e-01,  1.90500766e-01,\n",
       "       -4.34540957e-03,  1.83631927e-01, -7.44257942e-02,  2.33239502e-01,\n",
       "       -4.45797324e-01,  4.63965297e-01, -2.57196762e-02, -4.11122203e-01,\n",
       "       -6.12016916e-01, -3.14463854e-01, -1.16983585e-01, -4.78598833e-01,\n",
       "       -9.89362374e-02, -1.36233419e-01,  1.03243136e+00, -5.22272140e-02,\n",
       "        9.00742352e-01,  4.62411404e-01, -1.67777851e-01, -8.70181769e-02,\n",
       "       -7.39629984e-01, -1.73517436e-01, -1.71428457e-01, -3.49325925e-01,\n",
       "       -5.95527738e-02, -1.11315525e+00,  4.01340961e-01,  1.15695782e-01,\n",
       "       -2.93461949e-01,  8.98125648e-01,  5.95765375e-03, -3.27678509e-02,\n",
       "       -5.23617506e-01, -1.82310358e-01,  2.84285098e-01,  6.06168389e-01,\n",
       "        5.65315783e-02,  2.48788148e-01, -3.32984805e-01, -5.86411774e-01,\n",
       "       -3.66611481e-02,  5.08659542e-01,  3.68718117e-01, -9.96063054e-02,\n",
       "       -4.05057967e-01,  2.13691428e-01, -1.11690387e-01, -2.95015037e-01,\n",
       "       -4.67770129e-01,  2.72266775e-01,  5.30218557e-02,  2.14650407e-01,\n",
       "       -4.18853432e-01, -4.28502560e-01,  6.03910625e-01,  1.82023257e-01,\n",
       "       -1.89960331e-01,  1.07827866e+00,  6.10407472e-01,  3.94980788e-01,\n",
       "       -2.85484195e-01,  2.84847409e-01,  4.71541971e-01, -1.80335283e-01,\n",
       "       -1.58687264e-01, -1.99146390e-01,  5.86623430e-01,  6.45297229e-01,\n",
       "       -8.03985715e-01,  1.50879991e+00,  7.74979219e-03, -2.58429527e-01,\n",
       "       -4.32854444e-01, -3.41094762e-01, -1.51162654e-01,  5.00918068e-02,\n",
       "       -6.42001629e-02, -1.83844846e-02,  1.24895208e-01,  5.04323721e-01,\n",
       "        7.44612366e-02, -1.11374521e+00, -1.64959639e-01, -3.28690946e-01,\n",
       "       -5.80715895e-01,  3.86908621e-01,  4.84326333e-02, -1.03111528e-02,\n",
       "        1.03185534e+00, -9.17876661e-02, -5.87118268e-01, -7.87278116e-01,\n",
       "       -1.29796728e-01,  1.02917001e-01,  2.50031561e-01,  2.88853705e-01,\n",
       "        7.95648843e-02, -2.83023298e-01, -1.61995366e-01, -5.05514443e-01,\n",
       "        4.02617604e-01, -1.39840811e-01, -7.16988295e-02,  9.28249583e-03,\n",
       "       -7.46816754e-01, -3.75210077e-01,  2.25800931e-01,  5.34870863e-01,\n",
       "        2.03330889e-01,  4.60637152e-01,  3.23909789e-01,  5.91318309e-01,\n",
       "        4.33218002e-01, -5.23013592e-01,  1.82668015e-01, -4.06112999e-01,\n",
       "       -2.18668990e-02,  4.07181770e-01, -8.32429707e-01,  5.77363074e-01,\n",
       "       -8.15727860e-02,  4.73087877e-01,  5.34360945e-01,  1.62425876e-01,\n",
       "        1.21562563e-01,  7.54306093e-02,  5.94470441e-01,  1.12325811e+00,\n",
       "        6.54450238e-01, -1.27658248e-01, -3.87635648e-01,  1.77862644e-02,\n",
       "       -1.69744462e-01, -1.94193691e-01, -2.82692373e-01, -2.43114531e-01,\n",
       "        1.40934866e-02,  3.71166877e-02, -6.24890812e-03,  2.04090685e-01,\n",
       "        1.93916678e-01, -9.07019898e-02,  1.60392031e-01, -4.47523057e-01],\n",
       "      dtype=float32)"
      ]
     },
     "execution_count": 51,
     "metadata": {},
     "output_type": "execute_result"
    }
   ],
   "source": [
    "get_bert_embedding_sentence(\"बजार ले जसरी ट्रेन्ड चेन्ज गर्यो यो हेर्दा\")"
   ]
  },
  {
   "cell_type": "code",
   "execution_count": 52,
   "id": "22191497-a4fe-42a0-8f15-c9f71264ce6e",
   "metadata": {},
   "outputs": [
    {
     "data": {
      "text/plain": [
       "False"
      ]
     },
     "execution_count": 52,
     "metadata": {},
     "output_type": "execute_result"
    }
   ],
   "source": [
    "data['text'].isnull().values.any()"
   ]
  },
  {
   "cell_type": "code",
   "execution_count": 53,
   "id": "b0bc139e",
   "metadata": {},
   "outputs": [],
   "source": [
    "data['word_embeddings'] = data['text'].apply(get_bert_embedding_sentence)"
   ]
  },
  {
   "cell_type": "code",
   "execution_count": 54,
   "id": "fdf6b870",
   "metadata": {},
   "outputs": [],
   "source": [
    "data.to_csv(\"embeddings_data_nepali_BERT.csv\")"
   ]
  },
  {
   "cell_type": "code",
   "execution_count": 55,
   "id": "16889493",
   "metadata": {},
   "outputs": [],
   "source": [
    "X,y = data['word_embeddings'], data['label']"
   ]
  },
  {
   "cell_type": "code",
   "execution_count": 56,
   "id": "9fad91b5",
   "metadata": {},
   "outputs": [],
   "source": [
    "train_X, test_X, train_y, test_y = train_test_split(X,y, test_size = 0.2, random_state = 420)"
   ]
  },
  {
   "cell_type": "code",
   "execution_count": 57,
   "id": "8f706ada",
   "metadata": {},
   "outputs": [],
   "source": [
    "svc = SVC(probability=True)"
   ]
  },
  {
   "cell_type": "code",
   "execution_count": 58,
   "id": "ba420c4d",
   "metadata": {},
   "outputs": [
    {
     "data": {
      "text/html": [
       "<style>#sk-container-id-10 {color: black;}#sk-container-id-10 pre{padding: 0;}#sk-container-id-10 div.sk-toggleable {background-color: white;}#sk-container-id-10 label.sk-toggleable__label {cursor: pointer;display: block;width: 100%;margin-bottom: 0;padding: 0.3em;box-sizing: border-box;text-align: center;}#sk-container-id-10 label.sk-toggleable__label-arrow:before {content: \"▸\";float: left;margin-right: 0.25em;color: #696969;}#sk-container-id-10 label.sk-toggleable__label-arrow:hover:before {color: black;}#sk-container-id-10 div.sk-estimator:hover label.sk-toggleable__label-arrow:before {color: black;}#sk-container-id-10 div.sk-toggleable__content {max-height: 0;max-width: 0;overflow: hidden;text-align: left;background-color: #f0f8ff;}#sk-container-id-10 div.sk-toggleable__content pre {margin: 0.2em;color: black;border-radius: 0.25em;background-color: #f0f8ff;}#sk-container-id-10 input.sk-toggleable__control:checked~div.sk-toggleable__content {max-height: 200px;max-width: 100%;overflow: auto;}#sk-container-id-10 input.sk-toggleable__control:checked~label.sk-toggleable__label-arrow:before {content: \"▾\";}#sk-container-id-10 div.sk-estimator input.sk-toggleable__control:checked~label.sk-toggleable__label {background-color: #d4ebff;}#sk-container-id-10 div.sk-label input.sk-toggleable__control:checked~label.sk-toggleable__label {background-color: #d4ebff;}#sk-container-id-10 input.sk-hidden--visually {border: 0;clip: rect(1px 1px 1px 1px);clip: rect(1px, 1px, 1px, 1px);height: 1px;margin: -1px;overflow: hidden;padding: 0;position: absolute;width: 1px;}#sk-container-id-10 div.sk-estimator {font-family: monospace;background-color: #f0f8ff;border: 1px dotted black;border-radius: 0.25em;box-sizing: border-box;margin-bottom: 0.5em;}#sk-container-id-10 div.sk-estimator:hover {background-color: #d4ebff;}#sk-container-id-10 div.sk-parallel-item::after {content: \"\";width: 100%;border-bottom: 1px solid gray;flex-grow: 1;}#sk-container-id-10 div.sk-label:hover label.sk-toggleable__label {background-color: #d4ebff;}#sk-container-id-10 div.sk-serial::before {content: \"\";position: absolute;border-left: 1px solid gray;box-sizing: border-box;top: 0;bottom: 0;left: 50%;z-index: 0;}#sk-container-id-10 div.sk-serial {display: flex;flex-direction: column;align-items: center;background-color: white;padding-right: 0.2em;padding-left: 0.2em;position: relative;}#sk-container-id-10 div.sk-item {position: relative;z-index: 1;}#sk-container-id-10 div.sk-parallel {display: flex;align-items: stretch;justify-content: center;background-color: white;position: relative;}#sk-container-id-10 div.sk-item::before, #sk-container-id-10 div.sk-parallel-item::before {content: \"\";position: absolute;border-left: 1px solid gray;box-sizing: border-box;top: 0;bottom: 0;left: 50%;z-index: -1;}#sk-container-id-10 div.sk-parallel-item {display: flex;flex-direction: column;z-index: 1;position: relative;background-color: white;}#sk-container-id-10 div.sk-parallel-item:first-child::after {align-self: flex-end;width: 50%;}#sk-container-id-10 div.sk-parallel-item:last-child::after {align-self: flex-start;width: 50%;}#sk-container-id-10 div.sk-parallel-item:only-child::after {width: 0;}#sk-container-id-10 div.sk-dashed-wrapped {border: 1px dashed gray;margin: 0 0.4em 0.5em 0.4em;box-sizing: border-box;padding-bottom: 0.4em;background-color: white;}#sk-container-id-10 div.sk-label label {font-family: monospace;font-weight: bold;display: inline-block;line-height: 1.2em;}#sk-container-id-10 div.sk-label-container {text-align: center;}#sk-container-id-10 div.sk-container {/* jupyter's `normalize.less` sets `[hidden] { display: none; }` but bootstrap.min.css set `[hidden] { display: none !important; }` so we also need the `!important` here to be able to override the default hidden behavior on the sphinx rendered scikit-learn.org. See: https://github.com/scikit-learn/scikit-learn/issues/21755 */display: inline-block !important;position: relative;}#sk-container-id-10 div.sk-text-repr-fallback {display: none;}</style><div id=\"sk-container-id-10\" class=\"sk-top-container\"><div class=\"sk-text-repr-fallback\"><pre>SVC(probability=True)</pre><b>In a Jupyter environment, please rerun this cell to show the HTML representation or trust the notebook. <br />On GitHub, the HTML representation is unable to render, please try loading this page with nbviewer.org.</b></div><div class=\"sk-container\" hidden><div class=\"sk-item\"><div class=\"sk-estimator sk-toggleable\"><input class=\"sk-toggleable__control sk-hidden--visually\" id=\"sk-estimator-id-10\" type=\"checkbox\" checked><label for=\"sk-estimator-id-10\" class=\"sk-toggleable__label sk-toggleable__label-arrow\">SVC</label><div class=\"sk-toggleable__content\"><pre>SVC(probability=True)</pre></div></div></div></div></div>"
      ],
      "text/plain": [
       "SVC(probability=True)"
      ]
     },
     "execution_count": 58,
     "metadata": {},
     "output_type": "execute_result"
    }
   ],
   "source": [
    "svc.fit(train_X.tolist(), train_y)\n",
    "#svc.fit(train_X, train_y)"
   ]
  },
  {
   "cell_type": "code",
   "execution_count": 59,
   "id": "1a4c4797",
   "metadata": {},
   "outputs": [],
   "source": [
    "svc_pred = svc.predict(test_X.tolist())\n",
    "# svc_pred = svc.predict(test_X)"
   ]
  },
  {
   "cell_type": "code",
   "execution_count": 60,
   "id": "bf9e1f38",
   "metadata": {},
   "outputs": [
    {
     "name": "stdout",
     "output_type": "stream",
     "text": [
      "[[426  89]\n",
      " [ 79 618]]\n"
     ]
    }
   ],
   "source": [
    "print(confusion_matrix(test_y, svc_pred))"
   ]
  },
  {
   "cell_type": "code",
   "execution_count": 61,
   "id": "614ae1ac",
   "metadata": {},
   "outputs": [
    {
     "name": "stdout",
     "output_type": "stream",
     "text": [
      "              precision    recall  f1-score   support\n",
      "\n",
      "           0       0.84      0.83      0.84       515\n",
      "           1       0.87      0.89      0.88       697\n",
      "\n",
      "    accuracy                           0.86      1212\n",
      "   macro avg       0.86      0.86      0.86      1212\n",
      "weighted avg       0.86      0.86      0.86      1212\n",
      "\n"
     ]
    }
   ],
   "source": [
    "print(classification_report(test_y, svc_pred))"
   ]
  },
  {
   "cell_type": "code",
   "execution_count": 62,
   "id": "a4359624",
   "metadata": {},
   "outputs": [
    {
     "data": {
      "text/plain": [
       "0.8613861386138614"
      ]
     },
     "execution_count": 62,
     "metadata": {},
     "output_type": "execute_result"
    }
   ],
   "source": [
    "accuracy_score(test_y, svc_pred)"
   ]
  },
  {
   "cell_type": "code",
   "execution_count": 63,
   "id": "2799ed75",
   "metadata": {},
   "outputs": [
    {
     "data": {
      "text/html": [
       "<style>#sk-container-id-11 {color: black;}#sk-container-id-11 pre{padding: 0;}#sk-container-id-11 div.sk-toggleable {background-color: white;}#sk-container-id-11 label.sk-toggleable__label {cursor: pointer;display: block;width: 100%;margin-bottom: 0;padding: 0.3em;box-sizing: border-box;text-align: center;}#sk-container-id-11 label.sk-toggleable__label-arrow:before {content: \"▸\";float: left;margin-right: 0.25em;color: #696969;}#sk-container-id-11 label.sk-toggleable__label-arrow:hover:before {color: black;}#sk-container-id-11 div.sk-estimator:hover label.sk-toggleable__label-arrow:before {color: black;}#sk-container-id-11 div.sk-toggleable__content {max-height: 0;max-width: 0;overflow: hidden;text-align: left;background-color: #f0f8ff;}#sk-container-id-11 div.sk-toggleable__content pre {margin: 0.2em;color: black;border-radius: 0.25em;background-color: #f0f8ff;}#sk-container-id-11 input.sk-toggleable__control:checked~div.sk-toggleable__content {max-height: 200px;max-width: 100%;overflow: auto;}#sk-container-id-11 input.sk-toggleable__control:checked~label.sk-toggleable__label-arrow:before {content: \"▾\";}#sk-container-id-11 div.sk-estimator input.sk-toggleable__control:checked~label.sk-toggleable__label {background-color: #d4ebff;}#sk-container-id-11 div.sk-label input.sk-toggleable__control:checked~label.sk-toggleable__label {background-color: #d4ebff;}#sk-container-id-11 input.sk-hidden--visually {border: 0;clip: rect(1px 1px 1px 1px);clip: rect(1px, 1px, 1px, 1px);height: 1px;margin: -1px;overflow: hidden;padding: 0;position: absolute;width: 1px;}#sk-container-id-11 div.sk-estimator {font-family: monospace;background-color: #f0f8ff;border: 1px dotted black;border-radius: 0.25em;box-sizing: border-box;margin-bottom: 0.5em;}#sk-container-id-11 div.sk-estimator:hover {background-color: #d4ebff;}#sk-container-id-11 div.sk-parallel-item::after {content: \"\";width: 100%;border-bottom: 1px solid gray;flex-grow: 1;}#sk-container-id-11 div.sk-label:hover label.sk-toggleable__label {background-color: #d4ebff;}#sk-container-id-11 div.sk-serial::before {content: \"\";position: absolute;border-left: 1px solid gray;box-sizing: border-box;top: 0;bottom: 0;left: 50%;z-index: 0;}#sk-container-id-11 div.sk-serial {display: flex;flex-direction: column;align-items: center;background-color: white;padding-right: 0.2em;padding-left: 0.2em;position: relative;}#sk-container-id-11 div.sk-item {position: relative;z-index: 1;}#sk-container-id-11 div.sk-parallel {display: flex;align-items: stretch;justify-content: center;background-color: white;position: relative;}#sk-container-id-11 div.sk-item::before, #sk-container-id-11 div.sk-parallel-item::before {content: \"\";position: absolute;border-left: 1px solid gray;box-sizing: border-box;top: 0;bottom: 0;left: 50%;z-index: -1;}#sk-container-id-11 div.sk-parallel-item {display: flex;flex-direction: column;z-index: 1;position: relative;background-color: white;}#sk-container-id-11 div.sk-parallel-item:first-child::after {align-self: flex-end;width: 50%;}#sk-container-id-11 div.sk-parallel-item:last-child::after {align-self: flex-start;width: 50%;}#sk-container-id-11 div.sk-parallel-item:only-child::after {width: 0;}#sk-container-id-11 div.sk-dashed-wrapped {border: 1px dashed gray;margin: 0 0.4em 0.5em 0.4em;box-sizing: border-box;padding-bottom: 0.4em;background-color: white;}#sk-container-id-11 div.sk-label label {font-family: monospace;font-weight: bold;display: inline-block;line-height: 1.2em;}#sk-container-id-11 div.sk-label-container {text-align: center;}#sk-container-id-11 div.sk-container {/* jupyter's `normalize.less` sets `[hidden] { display: none; }` but bootstrap.min.css set `[hidden] { display: none !important; }` so we also need the `!important` here to be able to override the default hidden behavior on the sphinx rendered scikit-learn.org. See: https://github.com/scikit-learn/scikit-learn/issues/21755 */display: inline-block !important;position: relative;}#sk-container-id-11 div.sk-text-repr-fallback {display: none;}</style><div id=\"sk-container-id-11\" class=\"sk-top-container\"><div class=\"sk-text-repr-fallback\"><pre>RandomForestClassifier(max_depth=2, random_state=0)</pre><b>In a Jupyter environment, please rerun this cell to show the HTML representation or trust the notebook. <br />On GitHub, the HTML representation is unable to render, please try loading this page with nbviewer.org.</b></div><div class=\"sk-container\" hidden><div class=\"sk-item\"><div class=\"sk-estimator sk-toggleable\"><input class=\"sk-toggleable__control sk-hidden--visually\" id=\"sk-estimator-id-11\" type=\"checkbox\" checked><label for=\"sk-estimator-id-11\" class=\"sk-toggleable__label sk-toggleable__label-arrow\">RandomForestClassifier</label><div class=\"sk-toggleable__content\"><pre>RandomForestClassifier(max_depth=2, random_state=0)</pre></div></div></div></div></div>"
      ],
      "text/plain": [
       "RandomForestClassifier(max_depth=2, random_state=0)"
      ]
     },
     "execution_count": 63,
     "metadata": {},
     "output_type": "execute_result"
    }
   ],
   "source": [
    "from sklearn.ensemble import RandomForestClassifier\n",
    "\n",
    "random_forest = RandomForestClassifier(max_depth=2, random_state=0)\n",
    "random_forest.fit(train_X.tolist(), train_y)\n",
    "\n"
   ]
  },
  {
   "cell_type": "code",
   "execution_count": 64,
   "id": "f5cbc9a8",
   "metadata": {},
   "outputs": [
    {
     "name": "stdout",
     "output_type": "stream",
     "text": [
      "0.7367986798679867\n",
      "[[229 286]\n",
      " [ 33 664]]\n",
      "              precision    recall  f1-score   support\n",
      "\n",
      "           0       0.87      0.44      0.59       515\n",
      "           1       0.70      0.95      0.81       697\n",
      "\n",
      "    accuracy                           0.74      1212\n",
      "   macro avg       0.79      0.70      0.70      1212\n",
      "weighted avg       0.77      0.74      0.71      1212\n",
      "\n"
     ]
    }
   ],
   "source": [
    "random_pred = random_forest.predict(test_X.tolist())\n",
    "print(accuracy_score(test_y, random_pred))\n",
    "\n",
    "print(confusion_matrix(test_y, random_pred))\n",
    "\n",
    "print(classification_report(test_y, random_pred))"
   ]
  },
  {
   "cell_type": "code",
   "execution_count": 65,
   "id": "961ba877",
   "metadata": {},
   "outputs": [],
   "source": [
    "from sklearn.ensemble import GradientBoostingClassifier\n",
    "gb_clf = GradientBoostingClassifier(n_estimators=100, learning_rate=1.0,\n",
    "    max_depth=1, random_state=0).fit(train_X.tolist(), train_y)\n",
    "\n"
   ]
  },
  {
   "cell_type": "code",
   "execution_count": 66,
   "id": "4791a653",
   "metadata": {},
   "outputs": [
    {
     "name": "stdout",
     "output_type": "stream",
     "text": [
      "0.83003300330033\n",
      "[[407 108]\n",
      " [ 98 599]]\n",
      "              precision    recall  f1-score   support\n",
      "\n",
      "           0       0.81      0.79      0.80       515\n",
      "           1       0.85      0.86      0.85       697\n",
      "\n",
      "    accuracy                           0.83      1212\n",
      "   macro avg       0.83      0.82      0.83      1212\n",
      "weighted avg       0.83      0.83      0.83      1212\n",
      "\n"
     ]
    }
   ],
   "source": [
    "gbc_pred = gb_clf.predict(test_X.tolist())\n",
    "print(accuracy_score(test_y, gbc_pred))\n",
    "\n",
    "print(confusion_matrix(test_y, gbc_pred))\n",
    "\n",
    "print(classification_report(test_y, gbc_pred))"
   ]
  },
  {
   "cell_type": "markdown",
   "id": "0019fb73",
   "metadata": {},
   "source": [
    "# Naive Bayes"
   ]
  },
  {
   "cell_type": "code",
   "execution_count": 67,
   "id": "6d870e45",
   "metadata": {},
   "outputs": [
    {
     "data": {
      "text/html": [
       "<style>#sk-container-id-12 {color: black;}#sk-container-id-12 pre{padding: 0;}#sk-container-id-12 div.sk-toggleable {background-color: white;}#sk-container-id-12 label.sk-toggleable__label {cursor: pointer;display: block;width: 100%;margin-bottom: 0;padding: 0.3em;box-sizing: border-box;text-align: center;}#sk-container-id-12 label.sk-toggleable__label-arrow:before {content: \"▸\";float: left;margin-right: 0.25em;color: #696969;}#sk-container-id-12 label.sk-toggleable__label-arrow:hover:before {color: black;}#sk-container-id-12 div.sk-estimator:hover label.sk-toggleable__label-arrow:before {color: black;}#sk-container-id-12 div.sk-toggleable__content {max-height: 0;max-width: 0;overflow: hidden;text-align: left;background-color: #f0f8ff;}#sk-container-id-12 div.sk-toggleable__content pre {margin: 0.2em;color: black;border-radius: 0.25em;background-color: #f0f8ff;}#sk-container-id-12 input.sk-toggleable__control:checked~div.sk-toggleable__content {max-height: 200px;max-width: 100%;overflow: auto;}#sk-container-id-12 input.sk-toggleable__control:checked~label.sk-toggleable__label-arrow:before {content: \"▾\";}#sk-container-id-12 div.sk-estimator input.sk-toggleable__control:checked~label.sk-toggleable__label {background-color: #d4ebff;}#sk-container-id-12 div.sk-label input.sk-toggleable__control:checked~label.sk-toggleable__label {background-color: #d4ebff;}#sk-container-id-12 input.sk-hidden--visually {border: 0;clip: rect(1px 1px 1px 1px);clip: rect(1px, 1px, 1px, 1px);height: 1px;margin: -1px;overflow: hidden;padding: 0;position: absolute;width: 1px;}#sk-container-id-12 div.sk-estimator {font-family: monospace;background-color: #f0f8ff;border: 1px dotted black;border-radius: 0.25em;box-sizing: border-box;margin-bottom: 0.5em;}#sk-container-id-12 div.sk-estimator:hover {background-color: #d4ebff;}#sk-container-id-12 div.sk-parallel-item::after {content: \"\";width: 100%;border-bottom: 1px solid gray;flex-grow: 1;}#sk-container-id-12 div.sk-label:hover label.sk-toggleable__label {background-color: #d4ebff;}#sk-container-id-12 div.sk-serial::before {content: \"\";position: absolute;border-left: 1px solid gray;box-sizing: border-box;top: 0;bottom: 0;left: 50%;z-index: 0;}#sk-container-id-12 div.sk-serial {display: flex;flex-direction: column;align-items: center;background-color: white;padding-right: 0.2em;padding-left: 0.2em;position: relative;}#sk-container-id-12 div.sk-item {position: relative;z-index: 1;}#sk-container-id-12 div.sk-parallel {display: flex;align-items: stretch;justify-content: center;background-color: white;position: relative;}#sk-container-id-12 div.sk-item::before, #sk-container-id-12 div.sk-parallel-item::before {content: \"\";position: absolute;border-left: 1px solid gray;box-sizing: border-box;top: 0;bottom: 0;left: 50%;z-index: -1;}#sk-container-id-12 div.sk-parallel-item {display: flex;flex-direction: column;z-index: 1;position: relative;background-color: white;}#sk-container-id-12 div.sk-parallel-item:first-child::after {align-self: flex-end;width: 50%;}#sk-container-id-12 div.sk-parallel-item:last-child::after {align-self: flex-start;width: 50%;}#sk-container-id-12 div.sk-parallel-item:only-child::after {width: 0;}#sk-container-id-12 div.sk-dashed-wrapped {border: 1px dashed gray;margin: 0 0.4em 0.5em 0.4em;box-sizing: border-box;padding-bottom: 0.4em;background-color: white;}#sk-container-id-12 div.sk-label label {font-family: monospace;font-weight: bold;display: inline-block;line-height: 1.2em;}#sk-container-id-12 div.sk-label-container {text-align: center;}#sk-container-id-12 div.sk-container {/* jupyter's `normalize.less` sets `[hidden] { display: none; }` but bootstrap.min.css set `[hidden] { display: none !important; }` so we also need the `!important` here to be able to override the default hidden behavior on the sphinx rendered scikit-learn.org. See: https://github.com/scikit-learn/scikit-learn/issues/21755 */display: inline-block !important;position: relative;}#sk-container-id-12 div.sk-text-repr-fallback {display: none;}</style><div id=\"sk-container-id-12\" class=\"sk-top-container\"><div class=\"sk-text-repr-fallback\"><pre>GaussianNB()</pre><b>In a Jupyter environment, please rerun this cell to show the HTML representation or trust the notebook. <br />On GitHub, the HTML representation is unable to render, please try loading this page with nbviewer.org.</b></div><div class=\"sk-container\" hidden><div class=\"sk-item\"><div class=\"sk-estimator sk-toggleable\"><input class=\"sk-toggleable__control sk-hidden--visually\" id=\"sk-estimator-id-12\" type=\"checkbox\" checked><label for=\"sk-estimator-id-12\" class=\"sk-toggleable__label sk-toggleable__label-arrow\">GaussianNB</label><div class=\"sk-toggleable__content\"><pre>GaussianNB()</pre></div></div></div></div></div>"
      ],
      "text/plain": [
       "GaussianNB()"
      ]
     },
     "execution_count": 67,
     "metadata": {},
     "output_type": "execute_result"
    }
   ],
   "source": [
    "from sklearn.naive_bayes import GaussianNB\n",
    "gnb = GaussianNB()\n",
    "gnb.fit(train_X.tolist(), train_y)\n"
   ]
  },
  {
   "cell_type": "code",
   "execution_count": 68,
   "id": "dd7e8317",
   "metadata": {},
   "outputs": [
    {
     "name": "stdout",
     "output_type": "stream",
     "text": [
      "0.7986798679867987\n",
      "[[441  74]\n",
      " [170 527]]\n",
      "              precision    recall  f1-score   support\n",
      "\n",
      "           0       0.72      0.86      0.78       515\n",
      "           1       0.88      0.76      0.81       697\n",
      "\n",
      "    accuracy                           0.80      1212\n",
      "   macro avg       0.80      0.81      0.80      1212\n",
      "weighted avg       0.81      0.80      0.80      1212\n",
      "\n"
     ]
    }
   ],
   "source": [
    "gnb_pred = gnb.predict(test_X.tolist())\n",
    "print(accuracy_score(test_y, gnb_pred))\n",
    "\n",
    "print(confusion_matrix(test_y, gnb_pred))\n",
    "\n",
    "print(classification_report(test_y, gnb_pred))"
   ]
  },
  {
   "cell_type": "markdown",
   "id": "49ac2c96",
   "metadata": {},
   "source": [
    "# Ada Boost"
   ]
  },
  {
   "cell_type": "code",
   "execution_count": 69,
   "id": "873aee1d",
   "metadata": {},
   "outputs": [
    {
     "data": {
      "text/html": [
       "<style>#sk-container-id-13 {color: black;}#sk-container-id-13 pre{padding: 0;}#sk-container-id-13 div.sk-toggleable {background-color: white;}#sk-container-id-13 label.sk-toggleable__label {cursor: pointer;display: block;width: 100%;margin-bottom: 0;padding: 0.3em;box-sizing: border-box;text-align: center;}#sk-container-id-13 label.sk-toggleable__label-arrow:before {content: \"▸\";float: left;margin-right: 0.25em;color: #696969;}#sk-container-id-13 label.sk-toggleable__label-arrow:hover:before {color: black;}#sk-container-id-13 div.sk-estimator:hover label.sk-toggleable__label-arrow:before {color: black;}#sk-container-id-13 div.sk-toggleable__content {max-height: 0;max-width: 0;overflow: hidden;text-align: left;background-color: #f0f8ff;}#sk-container-id-13 div.sk-toggleable__content pre {margin: 0.2em;color: black;border-radius: 0.25em;background-color: #f0f8ff;}#sk-container-id-13 input.sk-toggleable__control:checked~div.sk-toggleable__content {max-height: 200px;max-width: 100%;overflow: auto;}#sk-container-id-13 input.sk-toggleable__control:checked~label.sk-toggleable__label-arrow:before {content: \"▾\";}#sk-container-id-13 div.sk-estimator input.sk-toggleable__control:checked~label.sk-toggleable__label {background-color: #d4ebff;}#sk-container-id-13 div.sk-label input.sk-toggleable__control:checked~label.sk-toggleable__label {background-color: #d4ebff;}#sk-container-id-13 input.sk-hidden--visually {border: 0;clip: rect(1px 1px 1px 1px);clip: rect(1px, 1px, 1px, 1px);height: 1px;margin: -1px;overflow: hidden;padding: 0;position: absolute;width: 1px;}#sk-container-id-13 div.sk-estimator {font-family: monospace;background-color: #f0f8ff;border: 1px dotted black;border-radius: 0.25em;box-sizing: border-box;margin-bottom: 0.5em;}#sk-container-id-13 div.sk-estimator:hover {background-color: #d4ebff;}#sk-container-id-13 div.sk-parallel-item::after {content: \"\";width: 100%;border-bottom: 1px solid gray;flex-grow: 1;}#sk-container-id-13 div.sk-label:hover label.sk-toggleable__label {background-color: #d4ebff;}#sk-container-id-13 div.sk-serial::before {content: \"\";position: absolute;border-left: 1px solid gray;box-sizing: border-box;top: 0;bottom: 0;left: 50%;z-index: 0;}#sk-container-id-13 div.sk-serial {display: flex;flex-direction: column;align-items: center;background-color: white;padding-right: 0.2em;padding-left: 0.2em;position: relative;}#sk-container-id-13 div.sk-item {position: relative;z-index: 1;}#sk-container-id-13 div.sk-parallel {display: flex;align-items: stretch;justify-content: center;background-color: white;position: relative;}#sk-container-id-13 div.sk-item::before, #sk-container-id-13 div.sk-parallel-item::before {content: \"\";position: absolute;border-left: 1px solid gray;box-sizing: border-box;top: 0;bottom: 0;left: 50%;z-index: -1;}#sk-container-id-13 div.sk-parallel-item {display: flex;flex-direction: column;z-index: 1;position: relative;background-color: white;}#sk-container-id-13 div.sk-parallel-item:first-child::after {align-self: flex-end;width: 50%;}#sk-container-id-13 div.sk-parallel-item:last-child::after {align-self: flex-start;width: 50%;}#sk-container-id-13 div.sk-parallel-item:only-child::after {width: 0;}#sk-container-id-13 div.sk-dashed-wrapped {border: 1px dashed gray;margin: 0 0.4em 0.5em 0.4em;box-sizing: border-box;padding-bottom: 0.4em;background-color: white;}#sk-container-id-13 div.sk-label label {font-family: monospace;font-weight: bold;display: inline-block;line-height: 1.2em;}#sk-container-id-13 div.sk-label-container {text-align: center;}#sk-container-id-13 div.sk-container {/* jupyter's `normalize.less` sets `[hidden] { display: none; }` but bootstrap.min.css set `[hidden] { display: none !important; }` so we also need the `!important` here to be able to override the default hidden behavior on the sphinx rendered scikit-learn.org. See: https://github.com/scikit-learn/scikit-learn/issues/21755 */display: inline-block !important;position: relative;}#sk-container-id-13 div.sk-text-repr-fallback {display: none;}</style><div id=\"sk-container-id-13\" class=\"sk-top-container\"><div class=\"sk-text-repr-fallback\"><pre>AdaBoostClassifier(n_estimators=100, random_state=0)</pre><b>In a Jupyter environment, please rerun this cell to show the HTML representation or trust the notebook. <br />On GitHub, the HTML representation is unable to render, please try loading this page with nbviewer.org.</b></div><div class=\"sk-container\" hidden><div class=\"sk-item\"><div class=\"sk-estimator sk-toggleable\"><input class=\"sk-toggleable__control sk-hidden--visually\" id=\"sk-estimator-id-13\" type=\"checkbox\" checked><label for=\"sk-estimator-id-13\" class=\"sk-toggleable__label sk-toggleable__label-arrow\">AdaBoostClassifier</label><div class=\"sk-toggleable__content\"><pre>AdaBoostClassifier(n_estimators=100, random_state=0)</pre></div></div></div></div></div>"
      ],
      "text/plain": [
       "AdaBoostClassifier(n_estimators=100, random_state=0)"
      ]
     },
     "execution_count": 69,
     "metadata": {},
     "output_type": "execute_result"
    }
   ],
   "source": [
    "from sklearn.ensemble import AdaBoostClassifier\n",
    "ada_boost_clf = AdaBoostClassifier(n_estimators=100, random_state=0)\n",
    "ada_boost_clf.fit(train_X.tolist(), train_y)\n"
   ]
  },
  {
   "cell_type": "code",
   "execution_count": 70,
   "id": "8585cc35",
   "metadata": {},
   "outputs": [
    {
     "name": "stdout",
     "output_type": "stream",
     "text": [
      "0.8341584158415841\n",
      "[[405 110]\n",
      " [ 91 606]]\n",
      "              precision    recall  f1-score   support\n",
      "\n",
      "           0       0.82      0.79      0.80       515\n",
      "           1       0.85      0.87      0.86       697\n",
      "\n",
      "    accuracy                           0.83      1212\n",
      "   macro avg       0.83      0.83      0.83      1212\n",
      "weighted avg       0.83      0.83      0.83      1212\n",
      "\n"
     ]
    }
   ],
   "source": [
    "adaboost_pred = ada_boost_clf.predict(test_X.tolist())\n",
    "print(accuracy_score(test_y, adaboost_pred))\n",
    "\n",
    "print(confusion_matrix(test_y, adaboost_pred))\n",
    "\n",
    "print(classification_report(test_y, adaboost_pred))"
   ]
  },
  {
   "cell_type": "markdown",
   "id": "7de21e35",
   "metadata": {},
   "source": [
    "# Decision Tree"
   ]
  },
  {
   "cell_type": "code",
   "execution_count": 71,
   "id": "17c4a206",
   "metadata": {},
   "outputs": [
    {
     "data": {
      "text/html": [
       "<style>#sk-container-id-14 {color: black;}#sk-container-id-14 pre{padding: 0;}#sk-container-id-14 div.sk-toggleable {background-color: white;}#sk-container-id-14 label.sk-toggleable__label {cursor: pointer;display: block;width: 100%;margin-bottom: 0;padding: 0.3em;box-sizing: border-box;text-align: center;}#sk-container-id-14 label.sk-toggleable__label-arrow:before {content: \"▸\";float: left;margin-right: 0.25em;color: #696969;}#sk-container-id-14 label.sk-toggleable__label-arrow:hover:before {color: black;}#sk-container-id-14 div.sk-estimator:hover label.sk-toggleable__label-arrow:before {color: black;}#sk-container-id-14 div.sk-toggleable__content {max-height: 0;max-width: 0;overflow: hidden;text-align: left;background-color: #f0f8ff;}#sk-container-id-14 div.sk-toggleable__content pre {margin: 0.2em;color: black;border-radius: 0.25em;background-color: #f0f8ff;}#sk-container-id-14 input.sk-toggleable__control:checked~div.sk-toggleable__content {max-height: 200px;max-width: 100%;overflow: auto;}#sk-container-id-14 input.sk-toggleable__control:checked~label.sk-toggleable__label-arrow:before {content: \"▾\";}#sk-container-id-14 div.sk-estimator input.sk-toggleable__control:checked~label.sk-toggleable__label {background-color: #d4ebff;}#sk-container-id-14 div.sk-label input.sk-toggleable__control:checked~label.sk-toggleable__label {background-color: #d4ebff;}#sk-container-id-14 input.sk-hidden--visually {border: 0;clip: rect(1px 1px 1px 1px);clip: rect(1px, 1px, 1px, 1px);height: 1px;margin: -1px;overflow: hidden;padding: 0;position: absolute;width: 1px;}#sk-container-id-14 div.sk-estimator {font-family: monospace;background-color: #f0f8ff;border: 1px dotted black;border-radius: 0.25em;box-sizing: border-box;margin-bottom: 0.5em;}#sk-container-id-14 div.sk-estimator:hover {background-color: #d4ebff;}#sk-container-id-14 div.sk-parallel-item::after {content: \"\";width: 100%;border-bottom: 1px solid gray;flex-grow: 1;}#sk-container-id-14 div.sk-label:hover label.sk-toggleable__label {background-color: #d4ebff;}#sk-container-id-14 div.sk-serial::before {content: \"\";position: absolute;border-left: 1px solid gray;box-sizing: border-box;top: 0;bottom: 0;left: 50%;z-index: 0;}#sk-container-id-14 div.sk-serial {display: flex;flex-direction: column;align-items: center;background-color: white;padding-right: 0.2em;padding-left: 0.2em;position: relative;}#sk-container-id-14 div.sk-item {position: relative;z-index: 1;}#sk-container-id-14 div.sk-parallel {display: flex;align-items: stretch;justify-content: center;background-color: white;position: relative;}#sk-container-id-14 div.sk-item::before, #sk-container-id-14 div.sk-parallel-item::before {content: \"\";position: absolute;border-left: 1px solid gray;box-sizing: border-box;top: 0;bottom: 0;left: 50%;z-index: -1;}#sk-container-id-14 div.sk-parallel-item {display: flex;flex-direction: column;z-index: 1;position: relative;background-color: white;}#sk-container-id-14 div.sk-parallel-item:first-child::after {align-self: flex-end;width: 50%;}#sk-container-id-14 div.sk-parallel-item:last-child::after {align-self: flex-start;width: 50%;}#sk-container-id-14 div.sk-parallel-item:only-child::after {width: 0;}#sk-container-id-14 div.sk-dashed-wrapped {border: 1px dashed gray;margin: 0 0.4em 0.5em 0.4em;box-sizing: border-box;padding-bottom: 0.4em;background-color: white;}#sk-container-id-14 div.sk-label label {font-family: monospace;font-weight: bold;display: inline-block;line-height: 1.2em;}#sk-container-id-14 div.sk-label-container {text-align: center;}#sk-container-id-14 div.sk-container {/* jupyter's `normalize.less` sets `[hidden] { display: none; }` but bootstrap.min.css set `[hidden] { display: none !important; }` so we also need the `!important` here to be able to override the default hidden behavior on the sphinx rendered scikit-learn.org. See: https://github.com/scikit-learn/scikit-learn/issues/21755 */display: inline-block !important;position: relative;}#sk-container-id-14 div.sk-text-repr-fallback {display: none;}</style><div id=\"sk-container-id-14\" class=\"sk-top-container\"><div class=\"sk-text-repr-fallback\"><pre>DecisionTreeClassifier(max_depth=2, random_state=0)</pre><b>In a Jupyter environment, please rerun this cell to show the HTML representation or trust the notebook. <br />On GitHub, the HTML representation is unable to render, please try loading this page with nbviewer.org.</b></div><div class=\"sk-container\" hidden><div class=\"sk-item\"><div class=\"sk-estimator sk-toggleable\"><input class=\"sk-toggleable__control sk-hidden--visually\" id=\"sk-estimator-id-14\" type=\"checkbox\" checked><label for=\"sk-estimator-id-14\" class=\"sk-toggleable__label sk-toggleable__label-arrow\">DecisionTreeClassifier</label><div class=\"sk-toggleable__content\"><pre>DecisionTreeClassifier(max_depth=2, random_state=0)</pre></div></div></div></div></div>"
      ],
      "text/plain": [
       "DecisionTreeClassifier(max_depth=2, random_state=0)"
      ]
     },
     "execution_count": 71,
     "metadata": {},
     "output_type": "execute_result"
    }
   ],
   "source": [
    "from sklearn.tree import DecisionTreeClassifier\n",
    "decision_tree = DecisionTreeClassifier(random_state=0, max_depth=2)\n",
    "decision_tree.fit(train_X.tolist(), train_y)\n"
   ]
  },
  {
   "cell_type": "code",
   "execution_count": 72,
   "id": "5c568b97",
   "metadata": {},
   "outputs": [
    {
     "name": "stdout",
     "output_type": "stream",
     "text": [
      "0.7285478547854786\n",
      "[[318 197]\n",
      " [132 565]]\n",
      "              precision    recall  f1-score   support\n",
      "\n",
      "           0       0.71      0.62      0.66       515\n",
      "           1       0.74      0.81      0.77       697\n",
      "\n",
      "    accuracy                           0.73      1212\n",
      "   macro avg       0.72      0.71      0.72      1212\n",
      "weighted avg       0.73      0.73      0.73      1212\n",
      "\n"
     ]
    }
   ],
   "source": [
    "decision_pred = decision_tree.predict(test_X.tolist())\n",
    "print(accuracy_score(test_y, decision_pred))\n",
    "\n",
    "print(confusion_matrix(test_y, decision_pred))\n",
    "\n",
    "print(classification_report(test_y, decision_pred))"
   ]
  },
  {
   "cell_type": "markdown",
   "id": "6b9435f6",
   "metadata": {},
   "source": [
    "# Extra Trees Classifier"
   ]
  },
  {
   "cell_type": "code",
   "execution_count": 73,
   "id": "2744b30e",
   "metadata": {},
   "outputs": [
    {
     "data": {
      "text/html": [
       "<style>#sk-container-id-15 {color: black;}#sk-container-id-15 pre{padding: 0;}#sk-container-id-15 div.sk-toggleable {background-color: white;}#sk-container-id-15 label.sk-toggleable__label {cursor: pointer;display: block;width: 100%;margin-bottom: 0;padding: 0.3em;box-sizing: border-box;text-align: center;}#sk-container-id-15 label.sk-toggleable__label-arrow:before {content: \"▸\";float: left;margin-right: 0.25em;color: #696969;}#sk-container-id-15 label.sk-toggleable__label-arrow:hover:before {color: black;}#sk-container-id-15 div.sk-estimator:hover label.sk-toggleable__label-arrow:before {color: black;}#sk-container-id-15 div.sk-toggleable__content {max-height: 0;max-width: 0;overflow: hidden;text-align: left;background-color: #f0f8ff;}#sk-container-id-15 div.sk-toggleable__content pre {margin: 0.2em;color: black;border-radius: 0.25em;background-color: #f0f8ff;}#sk-container-id-15 input.sk-toggleable__control:checked~div.sk-toggleable__content {max-height: 200px;max-width: 100%;overflow: auto;}#sk-container-id-15 input.sk-toggleable__control:checked~label.sk-toggleable__label-arrow:before {content: \"▾\";}#sk-container-id-15 div.sk-estimator input.sk-toggleable__control:checked~label.sk-toggleable__label {background-color: #d4ebff;}#sk-container-id-15 div.sk-label input.sk-toggleable__control:checked~label.sk-toggleable__label {background-color: #d4ebff;}#sk-container-id-15 input.sk-hidden--visually {border: 0;clip: rect(1px 1px 1px 1px);clip: rect(1px, 1px, 1px, 1px);height: 1px;margin: -1px;overflow: hidden;padding: 0;position: absolute;width: 1px;}#sk-container-id-15 div.sk-estimator {font-family: monospace;background-color: #f0f8ff;border: 1px dotted black;border-radius: 0.25em;box-sizing: border-box;margin-bottom: 0.5em;}#sk-container-id-15 div.sk-estimator:hover {background-color: #d4ebff;}#sk-container-id-15 div.sk-parallel-item::after {content: \"\";width: 100%;border-bottom: 1px solid gray;flex-grow: 1;}#sk-container-id-15 div.sk-label:hover label.sk-toggleable__label {background-color: #d4ebff;}#sk-container-id-15 div.sk-serial::before {content: \"\";position: absolute;border-left: 1px solid gray;box-sizing: border-box;top: 0;bottom: 0;left: 50%;z-index: 0;}#sk-container-id-15 div.sk-serial {display: flex;flex-direction: column;align-items: center;background-color: white;padding-right: 0.2em;padding-left: 0.2em;position: relative;}#sk-container-id-15 div.sk-item {position: relative;z-index: 1;}#sk-container-id-15 div.sk-parallel {display: flex;align-items: stretch;justify-content: center;background-color: white;position: relative;}#sk-container-id-15 div.sk-item::before, #sk-container-id-15 div.sk-parallel-item::before {content: \"\";position: absolute;border-left: 1px solid gray;box-sizing: border-box;top: 0;bottom: 0;left: 50%;z-index: -1;}#sk-container-id-15 div.sk-parallel-item {display: flex;flex-direction: column;z-index: 1;position: relative;background-color: white;}#sk-container-id-15 div.sk-parallel-item:first-child::after {align-self: flex-end;width: 50%;}#sk-container-id-15 div.sk-parallel-item:last-child::after {align-self: flex-start;width: 50%;}#sk-container-id-15 div.sk-parallel-item:only-child::after {width: 0;}#sk-container-id-15 div.sk-dashed-wrapped {border: 1px dashed gray;margin: 0 0.4em 0.5em 0.4em;box-sizing: border-box;padding-bottom: 0.4em;background-color: white;}#sk-container-id-15 div.sk-label label {font-family: monospace;font-weight: bold;display: inline-block;line-height: 1.2em;}#sk-container-id-15 div.sk-label-container {text-align: center;}#sk-container-id-15 div.sk-container {/* jupyter's `normalize.less` sets `[hidden] { display: none; }` but bootstrap.min.css set `[hidden] { display: none !important; }` so we also need the `!important` here to be able to override the default hidden behavior on the sphinx rendered scikit-learn.org. See: https://github.com/scikit-learn/scikit-learn/issues/21755 */display: inline-block !important;position: relative;}#sk-container-id-15 div.sk-text-repr-fallback {display: none;}</style><div id=\"sk-container-id-15\" class=\"sk-top-container\"><div class=\"sk-text-repr-fallback\"><pre>ExtraTreesClassifier(random_state=0)</pre><b>In a Jupyter environment, please rerun this cell to show the HTML representation or trust the notebook. <br />On GitHub, the HTML representation is unable to render, please try loading this page with nbviewer.org.</b></div><div class=\"sk-container\" hidden><div class=\"sk-item\"><div class=\"sk-estimator sk-toggleable\"><input class=\"sk-toggleable__control sk-hidden--visually\" id=\"sk-estimator-id-15\" type=\"checkbox\" checked><label for=\"sk-estimator-id-15\" class=\"sk-toggleable__label sk-toggleable__label-arrow\">ExtraTreesClassifier</label><div class=\"sk-toggleable__content\"><pre>ExtraTreesClassifier(random_state=0)</pre></div></div></div></div></div>"
      ],
      "text/plain": [
       "ExtraTreesClassifier(random_state=0)"
      ]
     },
     "execution_count": 73,
     "metadata": {},
     "output_type": "execute_result"
    }
   ],
   "source": [
    "from sklearn.ensemble import ExtraTreesClassifier\n",
    "etc_clf = ExtraTreesClassifier(n_estimators=100, random_state=0)\n",
    "etc_clf.fit(train_X.tolist(), train_y)\n"
   ]
  },
  {
   "cell_type": "code",
   "execution_count": 74,
   "id": "8ab575c8",
   "metadata": {},
   "outputs": [
    {
     "name": "stdout",
     "output_type": "stream",
     "text": [
      "0.863036303630363\n",
      "[[412 103]\n",
      " [ 63 634]]\n",
      "              precision    recall  f1-score   support\n",
      "\n",
      "           0       0.87      0.80      0.83       515\n",
      "           1       0.86      0.91      0.88       697\n",
      "\n",
      "    accuracy                           0.86      1212\n",
      "   macro avg       0.86      0.85      0.86      1212\n",
      "weighted avg       0.86      0.86      0.86      1212\n",
      "\n"
     ]
    }
   ],
   "source": [
    "etc_pred = etc_clf.predict(test_X.tolist())\n",
    "print(accuracy_score(test_y, etc_pred))\n",
    "\n",
    "print(confusion_matrix(test_y, etc_pred))\n",
    "\n",
    "print(classification_report(test_y, etc_pred))"
   ]
  },
  {
   "cell_type": "markdown",
   "id": "91d98447",
   "metadata": {},
   "source": [
    "# Logistic Regression"
   ]
  },
  {
   "cell_type": "code",
   "execution_count": 75,
   "id": "02d8ca68",
   "metadata": {},
   "outputs": [
    {
     "name": "stderr",
     "output_type": "stream",
     "text": [
      "/home/ictc/anaconda3/envs/shushanta_nepali_gpt/lib/python3.9/site-packages/sklearn/linear_model/_logistic.py:460: ConvergenceWarning: lbfgs failed to converge (status=1):\n",
      "STOP: TOTAL NO. of ITERATIONS REACHED LIMIT.\n",
      "\n",
      "Increase the number of iterations (max_iter) or scale the data as shown in:\n",
      "    https://scikit-learn.org/stable/modules/preprocessing.html\n",
      "Please also refer to the documentation for alternative solver options:\n",
      "    https://scikit-learn.org/stable/modules/linear_model.html#logistic-regression\n",
      "  n_iter_i = _check_optimize_result(\n"
     ]
    },
    {
     "data": {
      "text/html": [
       "<style>#sk-container-id-16 {color: black;}#sk-container-id-16 pre{padding: 0;}#sk-container-id-16 div.sk-toggleable {background-color: white;}#sk-container-id-16 label.sk-toggleable__label {cursor: pointer;display: block;width: 100%;margin-bottom: 0;padding: 0.3em;box-sizing: border-box;text-align: center;}#sk-container-id-16 label.sk-toggleable__label-arrow:before {content: \"▸\";float: left;margin-right: 0.25em;color: #696969;}#sk-container-id-16 label.sk-toggleable__label-arrow:hover:before {color: black;}#sk-container-id-16 div.sk-estimator:hover label.sk-toggleable__label-arrow:before {color: black;}#sk-container-id-16 div.sk-toggleable__content {max-height: 0;max-width: 0;overflow: hidden;text-align: left;background-color: #f0f8ff;}#sk-container-id-16 div.sk-toggleable__content pre {margin: 0.2em;color: black;border-radius: 0.25em;background-color: #f0f8ff;}#sk-container-id-16 input.sk-toggleable__control:checked~div.sk-toggleable__content {max-height: 200px;max-width: 100%;overflow: auto;}#sk-container-id-16 input.sk-toggleable__control:checked~label.sk-toggleable__label-arrow:before {content: \"▾\";}#sk-container-id-16 div.sk-estimator input.sk-toggleable__control:checked~label.sk-toggleable__label {background-color: #d4ebff;}#sk-container-id-16 div.sk-label input.sk-toggleable__control:checked~label.sk-toggleable__label {background-color: #d4ebff;}#sk-container-id-16 input.sk-hidden--visually {border: 0;clip: rect(1px 1px 1px 1px);clip: rect(1px, 1px, 1px, 1px);height: 1px;margin: -1px;overflow: hidden;padding: 0;position: absolute;width: 1px;}#sk-container-id-16 div.sk-estimator {font-family: monospace;background-color: #f0f8ff;border: 1px dotted black;border-radius: 0.25em;box-sizing: border-box;margin-bottom: 0.5em;}#sk-container-id-16 div.sk-estimator:hover {background-color: #d4ebff;}#sk-container-id-16 div.sk-parallel-item::after {content: \"\";width: 100%;border-bottom: 1px solid gray;flex-grow: 1;}#sk-container-id-16 div.sk-label:hover label.sk-toggleable__label {background-color: #d4ebff;}#sk-container-id-16 div.sk-serial::before {content: \"\";position: absolute;border-left: 1px solid gray;box-sizing: border-box;top: 0;bottom: 0;left: 50%;z-index: 0;}#sk-container-id-16 div.sk-serial {display: flex;flex-direction: column;align-items: center;background-color: white;padding-right: 0.2em;padding-left: 0.2em;position: relative;}#sk-container-id-16 div.sk-item {position: relative;z-index: 1;}#sk-container-id-16 div.sk-parallel {display: flex;align-items: stretch;justify-content: center;background-color: white;position: relative;}#sk-container-id-16 div.sk-item::before, #sk-container-id-16 div.sk-parallel-item::before {content: \"\";position: absolute;border-left: 1px solid gray;box-sizing: border-box;top: 0;bottom: 0;left: 50%;z-index: -1;}#sk-container-id-16 div.sk-parallel-item {display: flex;flex-direction: column;z-index: 1;position: relative;background-color: white;}#sk-container-id-16 div.sk-parallel-item:first-child::after {align-self: flex-end;width: 50%;}#sk-container-id-16 div.sk-parallel-item:last-child::after {align-self: flex-start;width: 50%;}#sk-container-id-16 div.sk-parallel-item:only-child::after {width: 0;}#sk-container-id-16 div.sk-dashed-wrapped {border: 1px dashed gray;margin: 0 0.4em 0.5em 0.4em;box-sizing: border-box;padding-bottom: 0.4em;background-color: white;}#sk-container-id-16 div.sk-label label {font-family: monospace;font-weight: bold;display: inline-block;line-height: 1.2em;}#sk-container-id-16 div.sk-label-container {text-align: center;}#sk-container-id-16 div.sk-container {/* jupyter's `normalize.less` sets `[hidden] { display: none; }` but bootstrap.min.css set `[hidden] { display: none !important; }` so we also need the `!important` here to be able to override the default hidden behavior on the sphinx rendered scikit-learn.org. See: https://github.com/scikit-learn/scikit-learn/issues/21755 */display: inline-block !important;position: relative;}#sk-container-id-16 div.sk-text-repr-fallback {display: none;}</style><div id=\"sk-container-id-16\" class=\"sk-top-container\"><div class=\"sk-text-repr-fallback\"><pre>LogisticRegression(C=100000.0)</pre><b>In a Jupyter environment, please rerun this cell to show the HTML representation or trust the notebook. <br />On GitHub, the HTML representation is unable to render, please try loading this page with nbviewer.org.</b></div><div class=\"sk-container\" hidden><div class=\"sk-item\"><div class=\"sk-estimator sk-toggleable\"><input class=\"sk-toggleable__control sk-hidden--visually\" id=\"sk-estimator-id-16\" type=\"checkbox\" checked><label for=\"sk-estimator-id-16\" class=\"sk-toggleable__label sk-toggleable__label-arrow\">LogisticRegression</label><div class=\"sk-toggleable__content\"><pre>LogisticRegression(C=100000.0)</pre></div></div></div></div></div>"
      ],
      "text/plain": [
       "LogisticRegression(C=100000.0)"
      ]
     },
     "execution_count": 75,
     "metadata": {},
     "output_type": "execute_result"
    }
   ],
   "source": [
    "from sklearn.linear_model import LogisticRegression\n",
    "logreg = LogisticRegression(C=1e5)\n",
    "logreg.fit(train_X.tolist(), train_y)"
   ]
  },
  {
   "cell_type": "code",
   "execution_count": 76,
   "id": "6de38e76",
   "metadata": {},
   "outputs": [
    {
     "name": "stdout",
     "output_type": "stream",
     "text": [
      "0.8424092409240924\n",
      "[[418  97]\n",
      " [ 94 603]]\n",
      "              precision    recall  f1-score   support\n",
      "\n",
      "           0       0.82      0.81      0.81       515\n",
      "           1       0.86      0.87      0.86       697\n",
      "\n",
      "    accuracy                           0.84      1212\n",
      "   macro avg       0.84      0.84      0.84      1212\n",
      "weighted avg       0.84      0.84      0.84      1212\n",
      "\n"
     ]
    }
   ],
   "source": [
    "lr_pred = logreg.predict(test_X.tolist())\n",
    "print(accuracy_score(test_y, lr_pred))\n",
    "\n",
    "print(confusion_matrix(test_y, lr_pred))\n",
    "\n",
    "print(classification_report(test_y, lr_pred))"
   ]
  },
  {
   "cell_type": "markdown",
   "id": "808efce9",
   "metadata": {},
   "source": [
    "# KNN"
   ]
  },
  {
   "cell_type": "code",
   "execution_count": 77,
   "id": "1162739b",
   "metadata": {},
   "outputs": [
    {
     "data": {
      "text/html": [
       "<style>#sk-container-id-17 {color: black;}#sk-container-id-17 pre{padding: 0;}#sk-container-id-17 div.sk-toggleable {background-color: white;}#sk-container-id-17 label.sk-toggleable__label {cursor: pointer;display: block;width: 100%;margin-bottom: 0;padding: 0.3em;box-sizing: border-box;text-align: center;}#sk-container-id-17 label.sk-toggleable__label-arrow:before {content: \"▸\";float: left;margin-right: 0.25em;color: #696969;}#sk-container-id-17 label.sk-toggleable__label-arrow:hover:before {color: black;}#sk-container-id-17 div.sk-estimator:hover label.sk-toggleable__label-arrow:before {color: black;}#sk-container-id-17 div.sk-toggleable__content {max-height: 0;max-width: 0;overflow: hidden;text-align: left;background-color: #f0f8ff;}#sk-container-id-17 div.sk-toggleable__content pre {margin: 0.2em;color: black;border-radius: 0.25em;background-color: #f0f8ff;}#sk-container-id-17 input.sk-toggleable__control:checked~div.sk-toggleable__content {max-height: 200px;max-width: 100%;overflow: auto;}#sk-container-id-17 input.sk-toggleable__control:checked~label.sk-toggleable__label-arrow:before {content: \"▾\";}#sk-container-id-17 div.sk-estimator input.sk-toggleable__control:checked~label.sk-toggleable__label {background-color: #d4ebff;}#sk-container-id-17 div.sk-label input.sk-toggleable__control:checked~label.sk-toggleable__label {background-color: #d4ebff;}#sk-container-id-17 input.sk-hidden--visually {border: 0;clip: rect(1px 1px 1px 1px);clip: rect(1px, 1px, 1px, 1px);height: 1px;margin: -1px;overflow: hidden;padding: 0;position: absolute;width: 1px;}#sk-container-id-17 div.sk-estimator {font-family: monospace;background-color: #f0f8ff;border: 1px dotted black;border-radius: 0.25em;box-sizing: border-box;margin-bottom: 0.5em;}#sk-container-id-17 div.sk-estimator:hover {background-color: #d4ebff;}#sk-container-id-17 div.sk-parallel-item::after {content: \"\";width: 100%;border-bottom: 1px solid gray;flex-grow: 1;}#sk-container-id-17 div.sk-label:hover label.sk-toggleable__label {background-color: #d4ebff;}#sk-container-id-17 div.sk-serial::before {content: \"\";position: absolute;border-left: 1px solid gray;box-sizing: border-box;top: 0;bottom: 0;left: 50%;z-index: 0;}#sk-container-id-17 div.sk-serial {display: flex;flex-direction: column;align-items: center;background-color: white;padding-right: 0.2em;padding-left: 0.2em;position: relative;}#sk-container-id-17 div.sk-item {position: relative;z-index: 1;}#sk-container-id-17 div.sk-parallel {display: flex;align-items: stretch;justify-content: center;background-color: white;position: relative;}#sk-container-id-17 div.sk-item::before, #sk-container-id-17 div.sk-parallel-item::before {content: \"\";position: absolute;border-left: 1px solid gray;box-sizing: border-box;top: 0;bottom: 0;left: 50%;z-index: -1;}#sk-container-id-17 div.sk-parallel-item {display: flex;flex-direction: column;z-index: 1;position: relative;background-color: white;}#sk-container-id-17 div.sk-parallel-item:first-child::after {align-self: flex-end;width: 50%;}#sk-container-id-17 div.sk-parallel-item:last-child::after {align-self: flex-start;width: 50%;}#sk-container-id-17 div.sk-parallel-item:only-child::after {width: 0;}#sk-container-id-17 div.sk-dashed-wrapped {border: 1px dashed gray;margin: 0 0.4em 0.5em 0.4em;box-sizing: border-box;padding-bottom: 0.4em;background-color: white;}#sk-container-id-17 div.sk-label label {font-family: monospace;font-weight: bold;display: inline-block;line-height: 1.2em;}#sk-container-id-17 div.sk-label-container {text-align: center;}#sk-container-id-17 div.sk-container {/* jupyter's `normalize.less` sets `[hidden] { display: none; }` but bootstrap.min.css set `[hidden] { display: none !important; }` so we also need the `!important` here to be able to override the default hidden behavior on the sphinx rendered scikit-learn.org. See: https://github.com/scikit-learn/scikit-learn/issues/21755 */display: inline-block !important;position: relative;}#sk-container-id-17 div.sk-text-repr-fallback {display: none;}</style><div id=\"sk-container-id-17\" class=\"sk-top-container\"><div class=\"sk-text-repr-fallback\"><pre>KNeighborsClassifier(n_neighbors=3)</pre><b>In a Jupyter environment, please rerun this cell to show the HTML representation or trust the notebook. <br />On GitHub, the HTML representation is unable to render, please try loading this page with nbviewer.org.</b></div><div class=\"sk-container\" hidden><div class=\"sk-item\"><div class=\"sk-estimator sk-toggleable\"><input class=\"sk-toggleable__control sk-hidden--visually\" id=\"sk-estimator-id-17\" type=\"checkbox\" checked><label for=\"sk-estimator-id-17\" class=\"sk-toggleable__label sk-toggleable__label-arrow\">KNeighborsClassifier</label><div class=\"sk-toggleable__content\"><pre>KNeighborsClassifier(n_neighbors=3)</pre></div></div></div></div></div>"
      ],
      "text/plain": [
       "KNeighborsClassifier(n_neighbors=3)"
      ]
     },
     "execution_count": 77,
     "metadata": {},
     "output_type": "execute_result"
    }
   ],
   "source": [
    "from sklearn.neighbors import KNeighborsClassifier\n",
    "neigh = KNeighborsClassifier(n_neighbors=3)\n",
    "neigh.fit(train_X.tolist(), train_y)"
   ]
  },
  {
   "cell_type": "code",
   "execution_count": 78,
   "id": "add46b3b",
   "metadata": {},
   "outputs": [
    {
     "name": "stdout",
     "output_type": "stream",
     "text": [
      "0.8110561056105611\n",
      "[[393 122]\n",
      " [107 590]]\n",
      "              precision    recall  f1-score   support\n",
      "\n",
      "           0       0.79      0.76      0.77       515\n",
      "           1       0.83      0.85      0.84       697\n",
      "\n",
      "    accuracy                           0.81      1212\n",
      "   macro avg       0.81      0.80      0.81      1212\n",
      "weighted avg       0.81      0.81      0.81      1212\n",
      "\n"
     ]
    }
   ],
   "source": [
    "neigh_pred = neigh.predict(test_X.tolist())\n",
    "print(accuracy_score(test_y, neigh_pred))\n",
    "\n",
    "print(confusion_matrix(test_y, neigh_pred))\n",
    "\n",
    "print(classification_report(test_y, neigh_pred))"
   ]
  },
  {
   "cell_type": "markdown",
   "id": "0cc46af6",
   "metadata": {},
   "source": [
    "# MLP"
   ]
  },
  {
   "cell_type": "code",
   "execution_count": 79,
   "id": "1c8f6068",
   "metadata": {},
   "outputs": [
    {
     "data": {
      "text/html": [
       "<style>#sk-container-id-18 {color: black;}#sk-container-id-18 pre{padding: 0;}#sk-container-id-18 div.sk-toggleable {background-color: white;}#sk-container-id-18 label.sk-toggleable__label {cursor: pointer;display: block;width: 100%;margin-bottom: 0;padding: 0.3em;box-sizing: border-box;text-align: center;}#sk-container-id-18 label.sk-toggleable__label-arrow:before {content: \"▸\";float: left;margin-right: 0.25em;color: #696969;}#sk-container-id-18 label.sk-toggleable__label-arrow:hover:before {color: black;}#sk-container-id-18 div.sk-estimator:hover label.sk-toggleable__label-arrow:before {color: black;}#sk-container-id-18 div.sk-toggleable__content {max-height: 0;max-width: 0;overflow: hidden;text-align: left;background-color: #f0f8ff;}#sk-container-id-18 div.sk-toggleable__content pre {margin: 0.2em;color: black;border-radius: 0.25em;background-color: #f0f8ff;}#sk-container-id-18 input.sk-toggleable__control:checked~div.sk-toggleable__content {max-height: 200px;max-width: 100%;overflow: auto;}#sk-container-id-18 input.sk-toggleable__control:checked~label.sk-toggleable__label-arrow:before {content: \"▾\";}#sk-container-id-18 div.sk-estimator input.sk-toggleable__control:checked~label.sk-toggleable__label {background-color: #d4ebff;}#sk-container-id-18 div.sk-label input.sk-toggleable__control:checked~label.sk-toggleable__label {background-color: #d4ebff;}#sk-container-id-18 input.sk-hidden--visually {border: 0;clip: rect(1px 1px 1px 1px);clip: rect(1px, 1px, 1px, 1px);height: 1px;margin: -1px;overflow: hidden;padding: 0;position: absolute;width: 1px;}#sk-container-id-18 div.sk-estimator {font-family: monospace;background-color: #f0f8ff;border: 1px dotted black;border-radius: 0.25em;box-sizing: border-box;margin-bottom: 0.5em;}#sk-container-id-18 div.sk-estimator:hover {background-color: #d4ebff;}#sk-container-id-18 div.sk-parallel-item::after {content: \"\";width: 100%;border-bottom: 1px solid gray;flex-grow: 1;}#sk-container-id-18 div.sk-label:hover label.sk-toggleable__label {background-color: #d4ebff;}#sk-container-id-18 div.sk-serial::before {content: \"\";position: absolute;border-left: 1px solid gray;box-sizing: border-box;top: 0;bottom: 0;left: 50%;z-index: 0;}#sk-container-id-18 div.sk-serial {display: flex;flex-direction: column;align-items: center;background-color: white;padding-right: 0.2em;padding-left: 0.2em;position: relative;}#sk-container-id-18 div.sk-item {position: relative;z-index: 1;}#sk-container-id-18 div.sk-parallel {display: flex;align-items: stretch;justify-content: center;background-color: white;position: relative;}#sk-container-id-18 div.sk-item::before, #sk-container-id-18 div.sk-parallel-item::before {content: \"\";position: absolute;border-left: 1px solid gray;box-sizing: border-box;top: 0;bottom: 0;left: 50%;z-index: -1;}#sk-container-id-18 div.sk-parallel-item {display: flex;flex-direction: column;z-index: 1;position: relative;background-color: white;}#sk-container-id-18 div.sk-parallel-item:first-child::after {align-self: flex-end;width: 50%;}#sk-container-id-18 div.sk-parallel-item:last-child::after {align-self: flex-start;width: 50%;}#sk-container-id-18 div.sk-parallel-item:only-child::after {width: 0;}#sk-container-id-18 div.sk-dashed-wrapped {border: 1px dashed gray;margin: 0 0.4em 0.5em 0.4em;box-sizing: border-box;padding-bottom: 0.4em;background-color: white;}#sk-container-id-18 div.sk-label label {font-family: monospace;font-weight: bold;display: inline-block;line-height: 1.2em;}#sk-container-id-18 div.sk-label-container {text-align: center;}#sk-container-id-18 div.sk-container {/* jupyter's `normalize.less` sets `[hidden] { display: none; }` but bootstrap.min.css set `[hidden] { display: none !important; }` so we also need the `!important` here to be able to override the default hidden behavior on the sphinx rendered scikit-learn.org. See: https://github.com/scikit-learn/scikit-learn/issues/21755 */display: inline-block !important;position: relative;}#sk-container-id-18 div.sk-text-repr-fallback {display: none;}</style><div id=\"sk-container-id-18\" class=\"sk-top-container\"><div class=\"sk-text-repr-fallback\"><pre>MLPClassifier(max_iter=300, random_state=1)</pre><b>In a Jupyter environment, please rerun this cell to show the HTML representation or trust the notebook. <br />On GitHub, the HTML representation is unable to render, please try loading this page with nbviewer.org.</b></div><div class=\"sk-container\" hidden><div class=\"sk-item\"><div class=\"sk-estimator sk-toggleable\"><input class=\"sk-toggleable__control sk-hidden--visually\" id=\"sk-estimator-id-18\" type=\"checkbox\" checked><label for=\"sk-estimator-id-18\" class=\"sk-toggleable__label sk-toggleable__label-arrow\">MLPClassifier</label><div class=\"sk-toggleable__content\"><pre>MLPClassifier(max_iter=300, random_state=1)</pre></div></div></div></div></div>"
      ],
      "text/plain": [
       "MLPClassifier(max_iter=300, random_state=1)"
      ]
     },
     "execution_count": 79,
     "metadata": {},
     "output_type": "execute_result"
    }
   ],
   "source": [
    "from sklearn.neural_network import MLPClassifier\n",
    "mlp = MLPClassifier(random_state=1, max_iter=300)\n",
    "mlp.fit(train_X.tolist(), train_y)"
   ]
  },
  {
   "cell_type": "code",
   "execution_count": 80,
   "id": "59f7c0bd",
   "metadata": {},
   "outputs": [
    {
     "name": "stdout",
     "output_type": "stream",
     "text": [
      "0.8803630363036303\n",
      "[[433  82]\n",
      " [ 63 634]]\n",
      "              precision    recall  f1-score   support\n",
      "\n",
      "           0       0.87      0.84      0.86       515\n",
      "           1       0.89      0.91      0.90       697\n",
      "\n",
      "    accuracy                           0.88      1212\n",
      "   macro avg       0.88      0.88      0.88      1212\n",
      "weighted avg       0.88      0.88      0.88      1212\n",
      "\n"
     ]
    }
   ],
   "source": [
    "mlp_pred = mlp.predict(test_X.tolist())\n",
    "print(accuracy_score(test_y, mlp_pred))\n",
    "\n",
    "print(confusion_matrix(test_y, mlp_pred))\n",
    "\n",
    "print(classification_report(test_y, mlp_pred))"
   ]
  },
  {
   "cell_type": "code",
   "execution_count": null,
   "id": "5beccfd8",
   "metadata": {},
   "outputs": [],
   "source": []
  },
  {
   "cell_type": "code",
   "execution_count": null,
   "id": "9caea076",
   "metadata": {},
   "outputs": [],
   "source": []
  },
  {
   "cell_type": "code",
   "execution_count": null,
   "id": "574daa85",
   "metadata": {},
   "outputs": [],
   "source": []
  },
  {
   "cell_type": "code",
   "execution_count": null,
   "id": "763ddede",
   "metadata": {},
   "outputs": [],
   "source": []
  },
  {
   "cell_type": "code",
   "execution_count": null,
   "id": "8282ea94",
   "metadata": {},
   "outputs": [],
   "source": []
  },
  {
   "cell_type": "code",
   "execution_count": null,
   "id": "fdf2d11d",
   "metadata": {},
   "outputs": [],
   "source": []
  },
  {
   "cell_type": "code",
   "execution_count": null,
   "id": "4ec3ebac",
   "metadata": {},
   "outputs": [],
   "source": []
  },
  {
   "cell_type": "code",
   "execution_count": null,
   "id": "c04b9d30-c53c-4cdc-bd0f-711f20153081",
   "metadata": {},
   "outputs": [],
   "source": []
  },
  {
   "cell_type": "code",
   "execution_count": null,
   "id": "53e00682-53b0-4ebb-9e99-8c0d780c536b",
   "metadata": {},
   "outputs": [],
   "source": []
  }
 ],
 "metadata": {
  "kernelspec": {
   "display_name": "Python 3 (ipykernel)",
   "language": "python",
   "name": "python3"
  },
  "language_info": {
   "codemirror_mode": {
    "name": "ipython",
    "version": 3
   },
   "file_extension": ".py",
   "mimetype": "text/x-python",
   "name": "python",
   "nbconvert_exporter": "python",
   "pygments_lexer": "ipython3",
   "version": "3.9.17"
  }
 },
 "nbformat": 4,
 "nbformat_minor": 5
}
